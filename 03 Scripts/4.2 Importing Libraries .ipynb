{
 "cells": [
  {
   "cell_type": "code",
   "execution_count": 2,
   "id": "19d6f380",
   "metadata": {},
   "outputs": [],
   "source": [
    "#Import libraries\n",
    "import pandas as pd\n",
    "import numpy as np\n",
    "import os"
   ]
  },
  {
   "cell_type": "code",
   "execution_count": 3,
   "id": "b2ce467a",
   "metadata": {},
   "outputs": [],
   "source": [
    "x=50"
   ]
  },
  {
   "cell_type": "code",
   "execution_count": 4,
   "id": "b65e140b",
   "metadata": {},
   "outputs": [
    {
     "data": {
      "text/plain": [
       "100"
      ]
     },
     "execution_count": 4,
     "metadata": {},
     "output_type": "execute_result"
    }
   ],
   "source": [
    "x+x"
   ]
  },
  {
   "cell_type": "code",
   "execution_count": 5,
   "id": "b334db6f",
   "metadata": {},
   "outputs": [],
   "source": [
    "y=150"
   ]
  },
  {
   "cell_type": "code",
   "execution_count": 6,
   "id": "346a3717",
   "metadata": {},
   "outputs": [
    {
     "data": {
      "text/plain": [
       "100"
      ]
     },
     "execution_count": 6,
     "metadata": {},
     "output_type": "execute_result"
    }
   ],
   "source": [
    "y-x"
   ]
  },
  {
   "cell_type": "code",
   "execution_count": 7,
   "id": "08a11650",
   "metadata": {},
   "outputs": [],
   "source": [
    "z=250"
   ]
  },
  {
   "cell_type": "code",
   "execution_count": 8,
   "id": "5e403bc4",
   "metadata": {},
   "outputs": [
    {
     "data": {
      "text/plain": [
       "100"
      ]
     },
     "execution_count": 8,
     "metadata": {},
     "output_type": "execute_result"
    }
   ],
   "source": [
    "z-y"
   ]
  },
  {
   "cell_type": "code",
   "execution_count": 9,
   "id": "0f70fac4",
   "metadata": {},
   "outputs": [],
   "source": [
    "t=10.5"
   ]
  },
  {
   "cell_type": "code",
   "execution_count": 10,
   "id": "8c2556ba",
   "metadata": {},
   "outputs": [],
   "source": [
    "s=2.5"
   ]
  },
  {
   "cell_type": "code",
   "execution_count": 11,
   "id": "8b3703e3",
   "metadata": {},
   "outputs": [
    {
     "data": {
      "text/plain": [
       "4.2"
      ]
     },
     "execution_count": 11,
     "metadata": {},
     "output_type": "execute_result"
    }
   ],
   "source": [
    "t/s"
   ]
  },
  {
   "cell_type": "code",
   "execution_count": 12,
   "id": "17df9fd6",
   "metadata": {},
   "outputs": [],
   "source": [
    "a=\"Base\""
   ]
  },
  {
   "cell_type": "code",
   "execution_count": 13,
   "id": "7bdfb741",
   "metadata": {},
   "outputs": [],
   "source": [
    "b=\"ball\""
   ]
  },
  {
   "cell_type": "code",
   "execution_count": 14,
   "id": "62dd8ac1",
   "metadata": {},
   "outputs": [
    {
     "data": {
      "text/plain": [
       "'Baseball'"
      ]
     },
     "execution_count": 14,
     "metadata": {},
     "output_type": "execute_result"
    }
   ],
   "source": [
    "a+b"
   ]
  },
  {
   "cell_type": "code",
   "execution_count": 15,
   "id": "f53b2ddf",
   "metadata": {},
   "outputs": [],
   "source": [
    "c=\"Candy is amazing.\""
   ]
  },
  {
   "cell_type": "code",
   "execution_count": 16,
   "id": "81b594f5",
   "metadata": {},
   "outputs": [],
   "source": [
    "d=\"Eating candy can make you feel happy and relaxed.\""
   ]
  },
  {
   "cell_type": "code",
   "execution_count": 17,
   "id": "f5a817a1",
   "metadata": {},
   "outputs": [
    {
     "data": {
      "text/plain": [
       "'Candy is amazing.Eating candy can make you feel happy and relaxed.'"
      ]
     },
     "execution_count": 17,
     "metadata": {},
     "output_type": "execute_result"
    }
   ],
   "source": [
    "c+d"
   ]
  },
  {
   "cell_type": "code",
   "execution_count": null,
   "id": "1311a329",
   "metadata": {},
   "outputs": [],
   "source": []
  }
 ],
 "metadata": {
  "kernelspec": {
   "display_name": "Python 3 (ipykernel)",
   "language": "python",
   "name": "python3"
  },
  "language_info": {
   "codemirror_mode": {
    "name": "ipython",
    "version": 3
   },
   "file_extension": ".py",
   "mimetype": "text/x-python",
   "name": "python",
   "nbconvert_exporter": "python",
   "pygments_lexer": "ipython3",
   "version": "3.11.5"
  }
 },
 "nbformat": 4,
 "nbformat_minor": 5
}
