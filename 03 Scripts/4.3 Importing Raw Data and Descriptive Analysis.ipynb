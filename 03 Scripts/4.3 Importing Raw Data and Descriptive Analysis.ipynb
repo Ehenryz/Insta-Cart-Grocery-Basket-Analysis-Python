{
 "cells": [
  {
   "cell_type": "code",
   "execution_count": null,
   "id": "bd7aa112",
   "metadata": {},
   "outputs": [],
   "source": [
    "#Importing Libraries\n",
    "import pandas as pd\n",
    "import numpy as np\n",
    "import os"
   ]
  },
  {
   "cell_type": "code",
   "execution_count": null,
   "id": "0007f8e5",
   "metadata": {},
   "outputs": [],
   "source": [
    "#Importing of raw data for orders.csv"
   ]
  },
  {
   "cell_type": "code",
   "execution_count": null,
   "id": "b5e1ab46",
   "metadata": {},
   "outputs": [],
   "source": [
    "df=pd.read_csv(r\"C:\\Users\\HP\\02-2024 Instacart Basket Analysis\\02 Data\\Original Data\\orders.csv\",index_col=False)"
   ]
  },
  {
   "cell_type": "code",
   "execution_count": null,
   "id": "bfc18a6c",
   "metadata": {},
   "outputs": [],
   "source": [
    "#Creating string for project folder path"
   ]
  },
  {
   "cell_type": "code",
   "execution_count": null,
   "id": "570ae979",
   "metadata": {},
   "outputs": [],
   "source": [
    "path=r\"C:\\Users\\HP\\02-2024 Instacart Basket Analysis\""
   ]
  },
  {
   "cell_type": "code",
   "execution_count": null,
   "id": "f2c79ee2",
   "metadata": {},
   "outputs": [],
   "source": [
    "path"
   ]
  },
  {
   "cell_type": "code",
   "execution_count": null,
   "id": "601fdc4a",
   "metadata": {},
   "outputs": [],
   "source": [
    "#Importing orders.csv via string"
   ]
  },
  {
   "cell_type": "code",
   "execution_count": null,
   "id": "38b02f39",
   "metadata": {
    "scrolled": true
   },
   "outputs": [],
   "source": [
    "df=pd.read_csv(os.path.join(path,\"02 Data\",\"Original Data\",\"orders.csv\"),index_col= False)"
   ]
  },
  {
   "cell_type": "code",
   "execution_count": null,
   "id": "ca9c8b5a",
   "metadata": {},
   "outputs": [],
   "source": [
    "#1st 5 Rows of Dataframe"
   ]
  },
  {
   "cell_type": "code",
   "execution_count": null,
   "id": "cbd67f6f",
   "metadata": {},
   "outputs": [],
   "source": [
    "df.head()"
   ]
  },
  {
   "cell_type": "code",
   "execution_count": null,
   "id": "ce3a50da",
   "metadata": {},
   "outputs": [],
   "source": [
    "df.head(30)"
   ]
  },
  {
   "cell_type": "code",
   "execution_count": null,
   "id": "0f6194c6",
   "metadata": {},
   "outputs": [],
   "source": [
    "df.tail()"
   ]
  },
  {
   "cell_type": "code",
   "execution_count": null,
   "id": "57d30a52",
   "metadata": {},
   "outputs": [],
   "source": [
    "df.shape"
   ]
  },
  {
   "cell_type": "code",
   "execution_count": null,
   "id": "d55dadf5",
   "metadata": {},
   "outputs": [],
   "source": [
    "#Summary Info of Dataframe"
   ]
  },
  {
   "cell_type": "code",
   "execution_count": null,
   "id": "ad359940",
   "metadata": {},
   "outputs": [],
   "source": [
    "df.info()"
   ]
  },
  {
   "cell_type": "code",
   "execution_count": null,
   "id": "ccac345e",
   "metadata": {},
   "outputs": [],
   "source": [
    "#Data Types of Columns"
   ]
  },
  {
   "cell_type": "code",
   "execution_count": null,
   "id": "6840086f",
   "metadata": {},
   "outputs": [],
   "source": [
    "df.dtypes"
   ]
  },
  {
   "cell_type": "code",
   "execution_count": null,
   "id": "a30296f0",
   "metadata": {},
   "outputs": [],
   "source": [
    "#Titles of Columns"
   ]
  },
  {
   "cell_type": "code",
   "execution_count": null,
   "id": "d3d853ad",
   "metadata": {},
   "outputs": [],
   "source": [
    "df.columns"
   ]
  },
  {
   "cell_type": "code",
   "execution_count": null,
   "id": "56db1edd",
   "metadata": {},
   "outputs": [],
   "source": [
    "#Descriptive Statistics"
   ]
  },
  {
   "cell_type": "code",
   "execution_count": null,
   "id": "8bc6ebbb",
   "metadata": {},
   "outputs": [],
   "source": [
    "df.describe()"
   ]
  },
  {
   "cell_type": "code",
   "execution_count": null,
   "id": "89e34cfb",
   "metadata": {},
   "outputs": [],
   "source": [
    "#Importing orders.csv using os library"
   ]
  },
  {
   "cell_type": "code",
   "execution_count": null,
   "id": "e55b4cbf",
   "metadata": {},
   "outputs": [],
   "source": [
    "df=pd.read_csv(os.path.join(path,\"02 Data\",\"Original Data\",\"orders.csv\"),nrows=1000)"
   ]
  },
  {
   "cell_type": "code",
   "execution_count": null,
   "id": "e42d66d6",
   "metadata": {},
   "outputs": [],
   "source": [
    "#Importing orders.csv using vars_list"
   ]
  },
  {
   "cell_type": "code",
   "execution_count": null,
   "id": "954471bf",
   "metadata": {},
   "outputs": [],
   "source": [
    "vars_list=[\"order_id\", \"user_id\", \"order_number\", \"order_dow\",\"order_hour_of_day\",\"days_since_prior_order\"]"
   ]
  },
  {
   "cell_type": "code",
   "execution_count": null,
   "id": "75b58221",
   "metadata": {},
   "outputs": [],
   "source": [
    "df=pd.read_csv(os.path.join(path,\"02 Data\",\"Original Data\",\"orders.csv\"),usecols=vars_list)"
   ]
  },
  {
   "cell_type": "code",
   "execution_count": null,
   "id": "14a0d408",
   "metadata": {},
   "outputs": [],
   "source": [
    "vars_list"
   ]
  },
  {
   "cell_type": "code",
   "execution_count": null,
   "id": "a58c5b27",
   "metadata": {},
   "outputs": [],
   "source": [
    "df.head()"
   ]
  },
  {
   "cell_type": "code",
   "execution_count": null,
   "id": "df238890",
   "metadata": {},
   "outputs": [],
   "source": [
    "#Importing of products.csv"
   ]
  },
  {
   "cell_type": "code",
   "execution_count": null,
   "id": "03acbff9",
   "metadata": {},
   "outputs": [],
   "source": [
    "df_prods=pd.read_csv(os.path.join(path,\"02 Data\",\"Original Data\",\"products.csv\"),index_col= False)"
   ]
  },
  {
   "cell_type": "code",
   "execution_count": null,
   "id": "4becdee5",
   "metadata": {},
   "outputs": [],
   "source": [
    "#1st 20 Rows of df_prods"
   ]
  },
  {
   "cell_type": "code",
   "execution_count": null,
   "id": "ba66ff43",
   "metadata": {},
   "outputs": [],
   "source": [
    "df.head(20)"
   ]
  },
  {
   "cell_type": "code",
   "execution_count": null,
   "id": "786269ca",
   "metadata": {},
   "outputs": [],
   "source": [
    "#Last 35 rows of df_prods"
   ]
  },
  {
   "cell_type": "code",
   "execution_count": null,
   "id": "39d15e5d",
   "metadata": {},
   "outputs": [],
   "source": [
    "df.tail(35)"
   ]
  },
  {
   "cell_type": "code",
   "execution_count": null,
   "id": "54cc509c",
   "metadata": {},
   "outputs": [],
   "source": [
    "#Number of rows and columns in df_prods"
   ]
  },
  {
   "cell_type": "code",
   "execution_count": null,
   "id": "753d5cdf",
   "metadata": {},
   "outputs": [],
   "source": [
    "df_prods.shape"
   ]
  },
  {
   "cell_type": "code",
   "execution_count": null,
   "id": "92da388b",
   "metadata": {},
   "outputs": [],
   "source": [
    "#Descriptive Statistics of df_prods"
   ]
  },
  {
   "cell_type": "code",
   "execution_count": null,
   "id": "b449bc5c",
   "metadata": {},
   "outputs": [],
   "source": [
    "df_prods.describe()"
   ]
  },
  {
   "cell_type": "code",
   "execution_count": null,
   "id": "5c3e1508",
   "metadata": {},
   "outputs": [],
   "source": [
    "#What’s the maximum value of the “aisle_id” column? 134"
   ]
  },
  {
   "cell_type": "code",
   "execution_count": null,
   "id": "4a56922c",
   "metadata": {},
   "outputs": [],
   "source": [
    "#What’s the data type of the “department_id” column? floating point numbers"
   ]
  },
  {
   "cell_type": "code",
   "execution_count": null,
   "id": "ef0706d8",
   "metadata": {},
   "outputs": [],
   "source": [
    "df_prods.head()"
   ]
  },
  {
   "cell_type": "code",
   "execution_count": null,
   "id": "02543009",
   "metadata": {},
   "outputs": [],
   "source": [
    "#Subset for data from snacks department\n",
    "df_snacks =  df_prods[df_prods['department_id']==19]"
   ]
  },
  {
   "cell_type": "code",
   "execution_count": null,
   "id": "509d8002",
   "metadata": {},
   "outputs": [],
   "source": [
    "df_prods['department_id']==19"
   ]
  },
  {
   "cell_type": "code",
   "execution_count": null,
   "id": "b8d0ccb2",
   "metadata": {},
   "outputs": [],
   "source": [
    "df_snacks =  df_prods[df_prods['department_id']==19]"
   ]
  },
  {
   "cell_type": "code",
   "execution_count": null,
   "id": "a19731c1",
   "metadata": {},
   "outputs": [],
   "source": [
    "df_snacks.head()"
   ]
  },
  {
   "cell_type": "code",
   "execution_count": null,
   "id": "92dd357c",
   "metadata": {},
   "outputs": [],
   "source": []
  }
 ],
 "metadata": {
  "kernelspec": {
   "display_name": "Python 3 (ipykernel)",
   "language": "python",
   "name": "python3"
  },
  "language_info": {
   "codemirror_mode": {
    "name": "ipython",
    "version": 3
   },
   "file_extension": ".py",
   "mimetype": "text/x-python",
   "name": "python",
   "nbconvert_exporter": "python",
   "pygments_lexer": "ipython3",
   "version": "3.11.5"
  }
 },
 "nbformat": 4,
 "nbformat_minor": 5
}
