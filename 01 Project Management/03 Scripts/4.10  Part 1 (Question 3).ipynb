{
 "cells": [
  {
   "cell_type": "code",
   "execution_count": 1,
   "id": "232551f8",
   "metadata": {},
   "outputs": [],
   "source": [
    "#CONTENTS LIST:\n",
    "#1. Crosstab of days_since_prior_order and number_of_orders columns to investigate missings\n",
    "#  -drop missings from days_since_prior_order column\n",
    "\n",
    "#2. Addressing PII: Drop first and last name columns \n",
    "\n",
    "#3. Drop merge column from dataset\n",
    "\n",
    "#4. Question 3 part 1 completion (Compare customer behavior in different regions and create regional segmentation via creation\n",
    "#   of region column based on state column from customers dataset) \n",
    "#  -create list variables based on regions\n",
    "#  -create region data dictionary\n",
    "#  -create new column called region and use .map to fill the column using region data dictionary \n",
    "\n",
    "#5. Question 3 part 2 completion (Determine if there's a difference in spending habits across regions)\n",
    "#  -create new dataframe from region and spending flag columns called cross_reg_spend\n",
    "#  -create crosstab of region and spending flag columns called cross_reg_spend\n",
    "\n",
    "#6. Further examine crosstab cross_reg_spend for further insights and visualization creation\n",
    "#  -calculate total counts of high and low spenders\n",
    "#  -calculate proportions of high and low spenders\n",
    "#  -create cross_reg_spend_bar, stacked bar chart, of proportion of high and low spenders by region\n",
    "\n",
    "#7. Create crosstab called croos_reg_freq of region and frequency flag columns to examine differences in ordering habits "
   ]
  },
  {
   "cell_type": "code",
   "execution_count": 2,
   "id": "3ffc3b33",
   "metadata": {},
   "outputs": [],
   "source": [
    "#Importing Libraries\n",
    "import pandas as pd\n",
    "import numpy as np\n",
    "import os\n",
    "import matplotlib.pyplot as plt\n",
    "import seaborn as sns\n",
    "import scipy"
   ]
  },
  {
   "cell_type": "code",
   "execution_count": 3,
   "id": "f8034792",
   "metadata": {},
   "outputs": [],
   "source": [
    "#Creating string for project folder path\n",
    "path=r\"C:\\Users\\HP\\02-2024 Instacart Basket Analysis\""
   ]
  },
  {
   "cell_type": "code",
   "execution_count": 4,
   "id": "66bbc4f8",
   "metadata": {},
   "outputs": [],
   "source": [
    "\"\"\"\n",
    "File: orders_products_aggregated_all.pkl\n",
    "Author:Erica Henry\n",
    "Date: 3/3/24\n",
    "\n",
    "#Description: Importing of orders_products_aggregated_all.pkl\n",
    "\"\"\"\n",
    "\n",
    "ords_prods_merge=pd.read_pickle(os.path.join(path,\"02 Data\",\"Prepared Data\",\"orders_products_aggregated_all.pkl\"))"
   ]
  },
  {
   "cell_type": "code",
   "execution_count": 5,
   "id": "5d2793f4",
   "metadata": {},
   "outputs": [],
   "source": [
    "#Create crosstab of days_since_prior_order and number_of_orders columns to investigate missings in days_since_prior_order column\n",
    "crosstab = pd.crosstab(ords_prods_merge['days_since_prior_order'], ords_prods_merge['number_of_orders'], dropna = False)"
   ]
  },
  {
   "cell_type": "code",
   "execution_count": 6,
   "id": "97cae289",
   "metadata": {},
   "outputs": [],
   "source": [
    "crosstab.to_clipboard()"
   ]
  },
  {
   "cell_type": "code",
   "execution_count": 7,
   "id": "e6af89ba",
   "metadata": {},
   "outputs": [],
   "source": [
    "#Remove  misssings from days_since_prior_order column\n",
    "ords_prods_merge.dropna(subset= ['days_since_prior_order'], inplace = True)"
   ]
  },
  {
   "cell_type": "code",
   "execution_count": 8,
   "id": "0c92e868",
   "metadata": {},
   "outputs": [
    {
     "data": {
      "text/plain": [
       "days_since_prior_order\n",
       "7.0     3476198\n",
       "30.0    3067374\n",
       "6.0     2517498\n",
       "5.0     2124434\n",
       "4.0     2078648\n",
       "8.0     1931945\n",
       "3.0     1876188\n",
       "2.0     1463724\n",
       "9.0     1217841\n",
       "14.0    1029656\n",
       "10.0     967187\n",
       "1.0      940474\n",
       "13.0     851114\n",
       "11.0     820761\n",
       "12.0     774164\n",
       "15.0     671458\n",
       "16.0     461335\n",
       "0.0      448329\n",
       "21.0     444142\n",
       "17.0     382114\n",
       "20.0     379732\n",
       "18.0     350587\n",
       "19.0     334882\n",
       "22.0     308849\n",
       "28.0     253151\n",
       "23.0     225834\n",
       "27.0     204061\n",
       "24.0     193421\n",
       "25.0     180417\n",
       "26.0     177775\n",
       "29.0     175470\n",
       "Name: count, dtype: int64"
      ]
     },
     "execution_count": 8,
     "metadata": {},
     "output_type": "execute_result"
    }
   ],
   "source": [
    "#Check output\n",
    "ords_prods_merge['days_since_prior_order'].value_counts(dropna=False)"
   ]
  },
  {
   "cell_type": "code",
   "execution_count": 9,
   "id": "7c968e19",
   "metadata": {},
   "outputs": [],
   "source": [
    "#Question 2 Career Foundry Task: Consider any security implications that might exist for this new data. You’ll need to address any PII data in the data before continuing your analysis.\n",
    "##Answer: I have decided to scrub the first and last name columns.\n",
    "ords_prods_merge = ords_prods_merge.drop(columns = ['First Name', 'Last Name'])"
   ]
  },
  {
   "cell_type": "code",
   "execution_count": 10,
   "id": "e7317dd3",
   "metadata": {},
   "outputs": [
    {
     "data": {
      "text/html": [
       "<div>\n",
       "<style scoped>\n",
       "    .dataframe tbody tr th:only-of-type {\n",
       "        vertical-align: middle;\n",
       "    }\n",
       "\n",
       "    .dataframe tbody tr th {\n",
       "        vertical-align: top;\n",
       "    }\n",
       "\n",
       "    .dataframe thead th {\n",
       "        text-align: right;\n",
       "    }\n",
       "</style>\n",
       "<table border=\"1\" class=\"dataframe\">\n",
       "  <thead>\n",
       "    <tr style=\"text-align: right;\">\n",
       "      <th></th>\n",
       "      <th>order_id</th>\n",
       "      <th>user_id</th>\n",
       "      <th>number_of_orders</th>\n",
       "      <th>orders_day_of_week</th>\n",
       "      <th>order_hour_of_day</th>\n",
       "      <th>days_since_prior_order</th>\n",
       "      <th>product_id</th>\n",
       "      <th>add_to_cart_order</th>\n",
       "      <th>number_of_times_reordered</th>\n",
       "      <th>product_name</th>\n",
       "      <th>...</th>\n",
       "      <th>Spending_flag</th>\n",
       "      <th>Median Customer Frequency</th>\n",
       "      <th>Frequency flag</th>\n",
       "      <th>Gender</th>\n",
       "      <th>State</th>\n",
       "      <th>Age</th>\n",
       "      <th>number_of_dependents</th>\n",
       "      <th>fam_status</th>\n",
       "      <th>income</th>\n",
       "      <th>_merge</th>\n",
       "    </tr>\n",
       "  </thead>\n",
       "  <tbody>\n",
       "    <tr>\n",
       "      <th>1</th>\n",
       "      <td>2398795</td>\n",
       "      <td>1</td>\n",
       "      <td>2</td>\n",
       "      <td>3</td>\n",
       "      <td>7</td>\n",
       "      <td>15.0</td>\n",
       "      <td>196</td>\n",
       "      <td>1</td>\n",
       "      <td>1</td>\n",
       "      <td>Soda</td>\n",
       "      <td>...</td>\n",
       "      <td>Low spender</td>\n",
       "      <td>20.5</td>\n",
       "      <td>Frequent customer</td>\n",
       "      <td>Female</td>\n",
       "      <td>Alabama</td>\n",
       "      <td>31</td>\n",
       "      <td>3</td>\n",
       "      <td>married</td>\n",
       "      <td>40423</td>\n",
       "      <td>both</td>\n",
       "    </tr>\n",
       "    <tr>\n",
       "      <th>2</th>\n",
       "      <td>473747</td>\n",
       "      <td>1</td>\n",
       "      <td>3</td>\n",
       "      <td>3</td>\n",
       "      <td>12</td>\n",
       "      <td>21.0</td>\n",
       "      <td>196</td>\n",
       "      <td>1</td>\n",
       "      <td>1</td>\n",
       "      <td>Soda</td>\n",
       "      <td>...</td>\n",
       "      <td>Low spender</td>\n",
       "      <td>20.5</td>\n",
       "      <td>Frequent customer</td>\n",
       "      <td>Female</td>\n",
       "      <td>Alabama</td>\n",
       "      <td>31</td>\n",
       "      <td>3</td>\n",
       "      <td>married</td>\n",
       "      <td>40423</td>\n",
       "      <td>both</td>\n",
       "    </tr>\n",
       "    <tr>\n",
       "      <th>3</th>\n",
       "      <td>2254736</td>\n",
       "      <td>1</td>\n",
       "      <td>4</td>\n",
       "      <td>4</td>\n",
       "      <td>7</td>\n",
       "      <td>29.0</td>\n",
       "      <td>196</td>\n",
       "      <td>1</td>\n",
       "      <td>1</td>\n",
       "      <td>Soda</td>\n",
       "      <td>...</td>\n",
       "      <td>Low spender</td>\n",
       "      <td>20.5</td>\n",
       "      <td>Frequent customer</td>\n",
       "      <td>Female</td>\n",
       "      <td>Alabama</td>\n",
       "      <td>31</td>\n",
       "      <td>3</td>\n",
       "      <td>married</td>\n",
       "      <td>40423</td>\n",
       "      <td>both</td>\n",
       "    </tr>\n",
       "    <tr>\n",
       "      <th>4</th>\n",
       "      <td>431534</td>\n",
       "      <td>1</td>\n",
       "      <td>5</td>\n",
       "      <td>4</td>\n",
       "      <td>15</td>\n",
       "      <td>28.0</td>\n",
       "      <td>196</td>\n",
       "      <td>1</td>\n",
       "      <td>1</td>\n",
       "      <td>Soda</td>\n",
       "      <td>...</td>\n",
       "      <td>Low spender</td>\n",
       "      <td>20.5</td>\n",
       "      <td>Frequent customer</td>\n",
       "      <td>Female</td>\n",
       "      <td>Alabama</td>\n",
       "      <td>31</td>\n",
       "      <td>3</td>\n",
       "      <td>married</td>\n",
       "      <td>40423</td>\n",
       "      <td>both</td>\n",
       "    </tr>\n",
       "    <tr>\n",
       "      <th>5</th>\n",
       "      <td>3367565</td>\n",
       "      <td>1</td>\n",
       "      <td>6</td>\n",
       "      <td>2</td>\n",
       "      <td>7</td>\n",
       "      <td>19.0</td>\n",
       "      <td>196</td>\n",
       "      <td>1</td>\n",
       "      <td>1</td>\n",
       "      <td>Soda</td>\n",
       "      <td>...</td>\n",
       "      <td>Low spender</td>\n",
       "      <td>20.5</td>\n",
       "      <td>Frequent customer</td>\n",
       "      <td>Female</td>\n",
       "      <td>Alabama</td>\n",
       "      <td>31</td>\n",
       "      <td>3</td>\n",
       "      <td>married</td>\n",
       "      <td>40423</td>\n",
       "      <td>both</td>\n",
       "    </tr>\n",
       "  </tbody>\n",
       "</table>\n",
       "<p>5 rows × 30 columns</p>\n",
       "</div>"
      ],
      "text/plain": [
       "  order_id user_id  number_of_orders  orders_day_of_week  order_hour_of_day  \\\n",
       "1  2398795       1                 2                   3                  7   \n",
       "2   473747       1                 3                   3                 12   \n",
       "3  2254736       1                 4                   4                  7   \n",
       "4   431534       1                 5                   4                 15   \n",
       "5  3367565       1                 6                   2                  7   \n",
       "\n",
       "   days_since_prior_order  product_id  add_to_cart_order  \\\n",
       "1                    15.0         196                  1   \n",
       "2                    21.0         196                  1   \n",
       "3                    29.0         196                  1   \n",
       "4                    28.0         196                  1   \n",
       "5                    19.0         196                  1   \n",
       "\n",
       "   number_of_times_reordered product_name  ...  Spending_flag  \\\n",
       "1                          1         Soda  ...    Low spender   \n",
       "2                          1         Soda  ...    Low spender   \n",
       "3                          1         Soda  ...    Low spender   \n",
       "4                          1         Soda  ...    Low spender   \n",
       "5                          1         Soda  ...    Low spender   \n",
       "\n",
       "   Median Customer Frequency     Frequency flag  Gender    State Age  \\\n",
       "1                       20.5  Frequent customer  Female  Alabama  31   \n",
       "2                       20.5  Frequent customer  Female  Alabama  31   \n",
       "3                       20.5  Frequent customer  Female  Alabama  31   \n",
       "4                       20.5  Frequent customer  Female  Alabama  31   \n",
       "5                       20.5  Frequent customer  Female  Alabama  31   \n",
       "\n",
       "  number_of_dependents  fam_status income  _merge  \n",
       "1                    3     married  40423    both  \n",
       "2                    3     married  40423    both  \n",
       "3                    3     married  40423    both  \n",
       "4                    3     married  40423    both  \n",
       "5                    3     married  40423    both  \n",
       "\n",
       "[5 rows x 30 columns]"
      ]
     },
     "execution_count": 10,
     "metadata": {},
     "output_type": "execute_result"
    }
   ],
   "source": [
    "#Check output\n",
    "ords_prods_merge.head()"
   ]
  },
  {
   "cell_type": "code",
   "execution_count": 11,
   "id": "e59bc9c5",
   "metadata": {},
   "outputs": [],
   "source": [
    "#Drop merge column\n",
    "ords_prods_merge = ords_prods_merge.drop(columns = ['_merge'])"
   ]
  },
  {
   "cell_type": "code",
   "execution_count": 12,
   "id": "98f8154a",
   "metadata": {},
   "outputs": [
    {
     "data": {
      "text/plain": [
       "State\n",
       "Pennsylvania            626003\n",
       "California              619377\n",
       "Rhode Island            616005\n",
       "Georgia                 615535\n",
       "New Mexico              613252\n",
       "Arizona                 613146\n",
       "North Carolina          611018\n",
       "Oklahoma                610954\n",
       "Alaska                  607402\n",
       "Minnesota               606952\n",
       "Massachusetts           606002\n",
       "Wyoming                 603254\n",
       "Virginia                600998\n",
       "Missouri                600027\n",
       "Texas                   599536\n",
       "Colorado                599168\n",
       "Maine                   597710\n",
       "North Dakota            597399\n",
       "Alabama                 596749\n",
       "Delaware                596476\n",
       "Louisiana               596377\n",
       "Kansas                  596360\n",
       "South Carolina          596268\n",
       "Nevada                  595274\n",
       "Arkansas                595096\n",
       "Oregon                  595079\n",
       "New York                594878\n",
       "Montana                 594458\n",
       "Washington              593357\n",
       "South Dakota            592697\n",
       "Hawaii                  592166\n",
       "Illinois                592080\n",
       "Kentucky                591669\n",
       "Mississippi             591373\n",
       "Michigan                590055\n",
       "Florida                 588777\n",
       "Wisconsin               587462\n",
       "Ohio                    587165\n",
       "Indiana                 587016\n",
       "New Jersey              586577\n",
       "Maryland                586228\n",
       "Iowa                    585291\n",
       "Nebraska                585082\n",
       "Connecticut             582420\n",
       "Tennessee               577469\n",
       "New Hampshire           575175\n",
       "District of Columbia    573683\n",
       "Utah                    572063\n",
       "West Virginia           571611\n",
       "Vermont                 571502\n",
       "Idaho                   567092\n",
       "Name: count, dtype: int64"
      ]
     },
     "execution_count": 12,
     "metadata": {},
     "output_type": "execute_result"
    }
   ],
   "source": [
    "\"\"\"\n",
    "File: orders_products_aggregated_all.pkl\n",
    "Author:Erica Henry\n",
    "Date: 3/3/24\n",
    "\n",
    "#Description: Quesion 3 part 1 Career Foundry Task: The Instacart officers are interested in comparing customer behavior in different geographic areas. Create a regional segmentation of the data. You’ll need to create a “Region” column based on the “State” column from your customers data set.\n",
    "\"\"\"\n",
    "\n",
    "#Print frequency counts of state column\n",
    "ords_prods_merge[\"State\"].value_counts(dropna=False)"
   ]
  },
  {
   "cell_type": "code",
   "execution_count": 13,
   "id": "795e4e00",
   "metadata": {},
   "outputs": [],
   "source": [
    "# Create list variables based on regions\\n\",\n",
    "Northeast = ['Maine', 'New Hampshire', 'Vermont', 'Massachusetts', 'Rhode Island', 'Connecticut', 'New York', 'Pennsylvania', 'New Jersey']"
   ]
  },
  {
   "cell_type": "code",
   "execution_count": 14,
   "id": "b0f0724a",
   "metadata": {},
   "outputs": [],
   "source": [
    "Midwest = ['Wisconsin', 'Michigan', 'Illinois', 'Indiana', 'Ohio', 'North Dakota', 'South Dakota', 'Nebraska', 'Kansas', 'Minnesota', 'Iowa', 'Missouri']"
   ]
  },
  {
   "cell_type": "code",
   "execution_count": 15,
   "id": "1b9bb3eb",
   "metadata": {},
   "outputs": [],
   "source": [
    "South =  ['Delaware', 'Maryland', 'District of Columbia', 'Virginia', 'West Virginia', 'North Carolina', 'South Carolina', 'Georgia', 'Florida', 'Kentucky', 'Tennessee', 'Mississippi', 'Alabama', 'Oklahoma', 'Texas', 'Arkansas', 'Louisiana']"
   ]
  },
  {
   "cell_type": "code",
   "execution_count": 16,
   "id": "b374f131",
   "metadata": {},
   "outputs": [],
   "source": [
    "West = ['Idaho', 'Montana', 'Wyoming', 'Nevada', 'Utah', 'Colorado', 'Arizona', 'New Mexico', 'Alaska', 'Washington', 'Oregon', 'California', 'Hawaii']"
   ]
  },
  {
   "cell_type": "code",
   "execution_count": 17,
   "id": "5b3b6ba5",
   "metadata": {},
   "outputs": [],
   "source": [
    "#Create data dictionary for Northeast region\n",
    "region_dict = {state: 'Northeast' for state in Northeast}"
   ]
  },
  {
   "cell_type": "code",
   "execution_count": 18,
   "id": "05284946",
   "metadata": {},
   "outputs": [],
   "source": [
    "#Update data dictionary to include Midwest region \n",
    "region_dict.update ({state: 'Midwest' for state in Midwest})"
   ]
  },
  {
   "cell_type": "code",
   "execution_count": 19,
   "id": "d2437607",
   "metadata": {},
   "outputs": [],
   "source": [
    "#Update data dictionary to include South region \n",
    "region_dict.update ({state: 'South' for state in South})"
   ]
  },
  {
   "cell_type": "code",
   "execution_count": 20,
   "id": "f1f5e21f",
   "metadata": {},
   "outputs": [],
   "source": [
    "#Update data dictionary to include West region \n",
    "region_dict.update ({state: 'West' for state in West})"
   ]
  },
  {
   "cell_type": "code",
   "execution_count": 21,
   "id": "a0e5153c",
   "metadata": {},
   "outputs": [],
   "source": [
    "#Create new column called region and use .map to fill the column using region data dictionary \n",
    "ords_prods_merge['Region'] = ords_prods_merge['State'].map(region_dict)"
   ]
  },
  {
   "cell_type": "code",
   "execution_count": 22,
   "id": "9fd90c91",
   "metadata": {},
   "outputs": [
    {
     "data": {
      "text/html": [
       "<div>\n",
       "<style scoped>\n",
       "    .dataframe tbody tr th:only-of-type {\n",
       "        vertical-align: middle;\n",
       "    }\n",
       "\n",
       "    .dataframe tbody tr th {\n",
       "        vertical-align: top;\n",
       "    }\n",
       "\n",
       "    .dataframe thead th {\n",
       "        text-align: right;\n",
       "    }\n",
       "</style>\n",
       "<table border=\"1\" class=\"dataframe\">\n",
       "  <thead>\n",
       "    <tr style=\"text-align: right;\">\n",
       "      <th></th>\n",
       "      <th>order_id</th>\n",
       "      <th>user_id</th>\n",
       "      <th>number_of_orders</th>\n",
       "      <th>orders_day_of_week</th>\n",
       "      <th>order_hour_of_day</th>\n",
       "      <th>days_since_prior_order</th>\n",
       "      <th>product_id</th>\n",
       "      <th>add_to_cart_order</th>\n",
       "      <th>number_of_times_reordered</th>\n",
       "      <th>product_name</th>\n",
       "      <th>...</th>\n",
       "      <th>Spending_flag</th>\n",
       "      <th>Median Customer Frequency</th>\n",
       "      <th>Frequency flag</th>\n",
       "      <th>Gender</th>\n",
       "      <th>State</th>\n",
       "      <th>Age</th>\n",
       "      <th>number_of_dependents</th>\n",
       "      <th>fam_status</th>\n",
       "      <th>income</th>\n",
       "      <th>Region</th>\n",
       "    </tr>\n",
       "  </thead>\n",
       "  <tbody>\n",
       "    <tr>\n",
       "      <th>1</th>\n",
       "      <td>2398795</td>\n",
       "      <td>1</td>\n",
       "      <td>2</td>\n",
       "      <td>3</td>\n",
       "      <td>7</td>\n",
       "      <td>15.0</td>\n",
       "      <td>196</td>\n",
       "      <td>1</td>\n",
       "      <td>1</td>\n",
       "      <td>Soda</td>\n",
       "      <td>...</td>\n",
       "      <td>Low spender</td>\n",
       "      <td>20.5</td>\n",
       "      <td>Frequent customer</td>\n",
       "      <td>Female</td>\n",
       "      <td>Alabama</td>\n",
       "      <td>31</td>\n",
       "      <td>3</td>\n",
       "      <td>married</td>\n",
       "      <td>40423</td>\n",
       "      <td>South</td>\n",
       "    </tr>\n",
       "    <tr>\n",
       "      <th>2</th>\n",
       "      <td>473747</td>\n",
       "      <td>1</td>\n",
       "      <td>3</td>\n",
       "      <td>3</td>\n",
       "      <td>12</td>\n",
       "      <td>21.0</td>\n",
       "      <td>196</td>\n",
       "      <td>1</td>\n",
       "      <td>1</td>\n",
       "      <td>Soda</td>\n",
       "      <td>...</td>\n",
       "      <td>Low spender</td>\n",
       "      <td>20.5</td>\n",
       "      <td>Frequent customer</td>\n",
       "      <td>Female</td>\n",
       "      <td>Alabama</td>\n",
       "      <td>31</td>\n",
       "      <td>3</td>\n",
       "      <td>married</td>\n",
       "      <td>40423</td>\n",
       "      <td>South</td>\n",
       "    </tr>\n",
       "    <tr>\n",
       "      <th>3</th>\n",
       "      <td>2254736</td>\n",
       "      <td>1</td>\n",
       "      <td>4</td>\n",
       "      <td>4</td>\n",
       "      <td>7</td>\n",
       "      <td>29.0</td>\n",
       "      <td>196</td>\n",
       "      <td>1</td>\n",
       "      <td>1</td>\n",
       "      <td>Soda</td>\n",
       "      <td>...</td>\n",
       "      <td>Low spender</td>\n",
       "      <td>20.5</td>\n",
       "      <td>Frequent customer</td>\n",
       "      <td>Female</td>\n",
       "      <td>Alabama</td>\n",
       "      <td>31</td>\n",
       "      <td>3</td>\n",
       "      <td>married</td>\n",
       "      <td>40423</td>\n",
       "      <td>South</td>\n",
       "    </tr>\n",
       "    <tr>\n",
       "      <th>4</th>\n",
       "      <td>431534</td>\n",
       "      <td>1</td>\n",
       "      <td>5</td>\n",
       "      <td>4</td>\n",
       "      <td>15</td>\n",
       "      <td>28.0</td>\n",
       "      <td>196</td>\n",
       "      <td>1</td>\n",
       "      <td>1</td>\n",
       "      <td>Soda</td>\n",
       "      <td>...</td>\n",
       "      <td>Low spender</td>\n",
       "      <td>20.5</td>\n",
       "      <td>Frequent customer</td>\n",
       "      <td>Female</td>\n",
       "      <td>Alabama</td>\n",
       "      <td>31</td>\n",
       "      <td>3</td>\n",
       "      <td>married</td>\n",
       "      <td>40423</td>\n",
       "      <td>South</td>\n",
       "    </tr>\n",
       "    <tr>\n",
       "      <th>5</th>\n",
       "      <td>3367565</td>\n",
       "      <td>1</td>\n",
       "      <td>6</td>\n",
       "      <td>2</td>\n",
       "      <td>7</td>\n",
       "      <td>19.0</td>\n",
       "      <td>196</td>\n",
       "      <td>1</td>\n",
       "      <td>1</td>\n",
       "      <td>Soda</td>\n",
       "      <td>...</td>\n",
       "      <td>Low spender</td>\n",
       "      <td>20.5</td>\n",
       "      <td>Frequent customer</td>\n",
       "      <td>Female</td>\n",
       "      <td>Alabama</td>\n",
       "      <td>31</td>\n",
       "      <td>3</td>\n",
       "      <td>married</td>\n",
       "      <td>40423</td>\n",
       "      <td>South</td>\n",
       "    </tr>\n",
       "  </tbody>\n",
       "</table>\n",
       "<p>5 rows × 30 columns</p>\n",
       "</div>"
      ],
      "text/plain": [
       "  order_id user_id  number_of_orders  orders_day_of_week  order_hour_of_day  \\\n",
       "1  2398795       1                 2                   3                  7   \n",
       "2   473747       1                 3                   3                 12   \n",
       "3  2254736       1                 4                   4                  7   \n",
       "4   431534       1                 5                   4                 15   \n",
       "5  3367565       1                 6                   2                  7   \n",
       "\n",
       "   days_since_prior_order  product_id  add_to_cart_order  \\\n",
       "1                    15.0         196                  1   \n",
       "2                    21.0         196                  1   \n",
       "3                    29.0         196                  1   \n",
       "4                    28.0         196                  1   \n",
       "5                    19.0         196                  1   \n",
       "\n",
       "   number_of_times_reordered product_name  ...  Spending_flag  \\\n",
       "1                          1         Soda  ...    Low spender   \n",
       "2                          1         Soda  ...    Low spender   \n",
       "3                          1         Soda  ...    Low spender   \n",
       "4                          1         Soda  ...    Low spender   \n",
       "5                          1         Soda  ...    Low spender   \n",
       "\n",
       "   Median Customer Frequency     Frequency flag  Gender    State Age  \\\n",
       "1                       20.5  Frequent customer  Female  Alabama  31   \n",
       "2                       20.5  Frequent customer  Female  Alabama  31   \n",
       "3                       20.5  Frequent customer  Female  Alabama  31   \n",
       "4                       20.5  Frequent customer  Female  Alabama  31   \n",
       "5                       20.5  Frequent customer  Female  Alabama  31   \n",
       "\n",
       "  number_of_dependents  fam_status income  Region  \n",
       "1                    3     married  40423   South  \n",
       "2                    3     married  40423   South  \n",
       "3                    3     married  40423   South  \n",
       "4                    3     married  40423   South  \n",
       "5                    3     married  40423   South  \n",
       "\n",
       "[5 rows x 30 columns]"
      ]
     },
     "execution_count": 22,
     "metadata": {},
     "output_type": "execute_result"
    }
   ],
   "source": [
    "#Check output\n",
    "ords_prods_merge.head()"
   ]
  },
  {
   "cell_type": "code",
   "execution_count": 23,
   "id": "462f3d63",
   "metadata": {},
   "outputs": [
    {
     "data": {
      "text/plain": [
       "Region\n",
       "South        10099817\n",
       "West          7765088\n",
       "Midwest       7107586\n",
       "Northeast     5356272\n",
       "Name: count, dtype: int64"
      ]
     },
     "execution_count": 23,
     "metadata": {},
     "output_type": "execute_result"
    }
   ],
   "source": [
    "#Print the frequency of new column \n",
    "ords_prods_merge[\"Region\"].value_counts(dropna=False)"
   ]
  },
  {
   "cell_type": "code",
   "execution_count": 24,
   "id": "a79e58e8",
   "metadata": {},
   "outputs": [],
   "source": [
    "\"\"\"\n",
    "File: orders_products_aggregated_all.pkl\n",
    "Author:Erica Henry\n",
    "Date: 3/3/24\n",
    "\n",
    "#Description: Question 3 part 2 Career Foundry Task: Determine whether there’s a difference in spending habits between the different U.S. regions. (Hint: You can do this by crossing the variable you just created with the spending flag.)\n",
    "\"\"\"\n",
    "\n",
    "#Create new df with only columns needed\n",
    "cross_reg_spend = ords_prods_merge[['Region', 'Spending_flag']]"
   ]
  },
  {
   "cell_type": "code",
   "execution_count": 25,
   "id": "e363fbac",
   "metadata": {},
   "outputs": [
    {
     "data": {
      "text/html": [
       "<div>\n",
       "<style scoped>\n",
       "    .dataframe tbody tr th:only-of-type {\n",
       "        vertical-align: middle;\n",
       "    }\n",
       "\n",
       "    .dataframe tbody tr th {\n",
       "        vertical-align: top;\n",
       "    }\n",
       "\n",
       "    .dataframe thead th {\n",
       "        text-align: right;\n",
       "    }\n",
       "</style>\n",
       "<table border=\"1\" class=\"dataframe\">\n",
       "  <thead>\n",
       "    <tr style=\"text-align: right;\">\n",
       "      <th></th>\n",
       "      <th>Region</th>\n",
       "      <th>Spending_flag</th>\n",
       "    </tr>\n",
       "  </thead>\n",
       "  <tbody>\n",
       "    <tr>\n",
       "      <th>1</th>\n",
       "      <td>South</td>\n",
       "      <td>Low spender</td>\n",
       "    </tr>\n",
       "    <tr>\n",
       "      <th>2</th>\n",
       "      <td>South</td>\n",
       "      <td>Low spender</td>\n",
       "    </tr>\n",
       "    <tr>\n",
       "      <th>3</th>\n",
       "      <td>South</td>\n",
       "      <td>Low spender</td>\n",
       "    </tr>\n",
       "    <tr>\n",
       "      <th>4</th>\n",
       "      <td>South</td>\n",
       "      <td>Low spender</td>\n",
       "    </tr>\n",
       "    <tr>\n",
       "      <th>5</th>\n",
       "      <td>South</td>\n",
       "      <td>Low spender</td>\n",
       "    </tr>\n",
       "    <tr>\n",
       "      <th>...</th>\n",
       "      <td>...</td>\n",
       "      <td>...</td>\n",
       "    </tr>\n",
       "    <tr>\n",
       "      <th>32404853</th>\n",
       "      <td>West</td>\n",
       "      <td>High spender</td>\n",
       "    </tr>\n",
       "    <tr>\n",
       "      <th>32404854</th>\n",
       "      <td>West</td>\n",
       "      <td>High spender</td>\n",
       "    </tr>\n",
       "    <tr>\n",
       "      <th>32404856</th>\n",
       "      <td>South</td>\n",
       "      <td>Low spender</td>\n",
       "    </tr>\n",
       "    <tr>\n",
       "      <th>32404857</th>\n",
       "      <td>South</td>\n",
       "      <td>Low spender</td>\n",
       "    </tr>\n",
       "    <tr>\n",
       "      <th>32404858</th>\n",
       "      <td>South</td>\n",
       "      <td>Low spender</td>\n",
       "    </tr>\n",
       "  </tbody>\n",
       "</table>\n",
       "<p>30328763 rows × 2 columns</p>\n",
       "</div>"
      ],
      "text/plain": [
       "         Region Spending_flag\n",
       "1         South   Low spender\n",
       "2         South   Low spender\n",
       "3         South   Low spender\n",
       "4         South   Low spender\n",
       "5         South   Low spender\n",
       "...         ...           ...\n",
       "32404853   West  High spender\n",
       "32404854   West  High spender\n",
       "32404856  South   Low spender\n",
       "32404857  South   Low spender\n",
       "32404858  South   Low spender\n",
       "\n",
       "[30328763 rows x 2 columns]"
      ]
     },
     "execution_count": 25,
     "metadata": {},
     "output_type": "execute_result"
    }
   ],
   "source": [
    "#Check output\n",
    "cross_reg_spend"
   ]
  },
  {
   "cell_type": "code",
   "execution_count": 26,
   "id": "7a6cd3df",
   "metadata": {},
   "outputs": [
    {
     "data": {
      "text/plain": [
       "Region     Spending_flag\n",
       "South      Low spender      9903178\n",
       "West       Low spender      7614941\n",
       "Midwest    Low spender      6961136\n",
       "Northeast  Low spender      5254727\n",
       "South      High spender      196639\n",
       "West       High spender      150147\n",
       "Midwest    High spender      146450\n",
       "Northeast  High spender      101545\n",
       "Name: count, dtype: int64"
      ]
     },
     "execution_count": 26,
     "metadata": {},
     "output_type": "execute_result"
    }
   ],
   "source": [
    "#Print frequency of cross_reg_spend\n",
    "cross_reg_spend.value_counts(dropna=False)"
   ]
  },
  {
   "cell_type": "code",
   "execution_count": 27,
   "id": "f3bb13d9",
   "metadata": {},
   "outputs": [],
   "source": [
    "#Create crosstab of region and spending_flag columns\n",
    "cross_reg_spend = pd.crosstab(ords_prods_merge['Region'], ords_prods_merge['Spending_flag'], dropna = False)"
   ]
  },
  {
   "cell_type": "code",
   "execution_count": 28,
   "id": "b6629896",
   "metadata": {},
   "outputs": [],
   "source": [
    "cross_reg_spend.to_clipboard()"
   ]
  },
  {
   "cell_type": "code",
   "execution_count": 29,
   "id": "fee1d045",
   "metadata": {},
   "outputs": [],
   "source": [
    "##Answer: The South region has the highest counts in both Low and High spender categories, while the Northeast has the \n",
    "#lowest counts of both categories.The West and Midwest regions fall in the middle categories, with the West having slightly\n",
    "#higher counts than the Midwest in comparison."
   ]
  },
  {
   "cell_type": "code",
   "execution_count": 30,
   "id": "42ca039a",
   "metadata": {},
   "outputs": [],
   "source": [
    "\"\"\"\n",
    "File: orders_products_aggregated_all.pkl\n",
    "Author:Erica Henry\n",
    "Date: 3/3/24\n",
    "\n",
    "#Description: Further examine crosstab for more insights and visualization creation\n",
    "\"\"\"\n",
    "\n",
    "#Calculate total count of high and low spenders\n",
    "cross_reg_spend['Total'] = cross_reg_spend['High spender'] + cross_reg_spend['Low spender']"
   ]
  },
  {
   "cell_type": "code",
   "execution_count": 31,
   "id": "b01378f0",
   "metadata": {},
   "outputs": [],
   "source": [
    "#Calculate proportions of high and low spenders\n",
    "cross_reg_spend['Proportion high'] = cross_reg_spend['High spender'] / cross_reg_spend['Total'] * 100"
   ]
  },
  {
   "cell_type": "code",
   "execution_count": 32,
   "id": "ca7ab24a",
   "metadata": {},
   "outputs": [],
   "source": [
    "cross_reg_spend['Proportion low'] = cross_reg_spend['Low spender'] / cross_reg_spend['Total'] * 100"
   ]
  },
  {
   "cell_type": "code",
   "execution_count": 33,
   "id": "b5f34ba2",
   "metadata": {},
   "outputs": [],
   "source": [
    "#Sort df by frequency\n",
    "cross_reg_spend = cross_reg_spend.sort_values(by='Total', ascending=False)"
   ]
  },
  {
   "cell_type": "code",
   "execution_count": 34,
   "id": "26b41be9",
   "metadata": {},
   "outputs": [
    {
     "data": {
      "text/html": [
       "<div>\n",
       "<style scoped>\n",
       "    .dataframe tbody tr th:only-of-type {\n",
       "        vertical-align: middle;\n",
       "    }\n",
       "\n",
       "    .dataframe tbody tr th {\n",
       "        vertical-align: top;\n",
       "    }\n",
       "\n",
       "    .dataframe thead th {\n",
       "        text-align: right;\n",
       "    }\n",
       "</style>\n",
       "<table border=\"1\" class=\"dataframe\">\n",
       "  <thead>\n",
       "    <tr style=\"text-align: right;\">\n",
       "      <th>Spending_flag</th>\n",
       "      <th>High spender</th>\n",
       "      <th>Low spender</th>\n",
       "      <th>Total</th>\n",
       "      <th>Proportion high</th>\n",
       "      <th>Proportion low</th>\n",
       "    </tr>\n",
       "    <tr>\n",
       "      <th>Region</th>\n",
       "      <th></th>\n",
       "      <th></th>\n",
       "      <th></th>\n",
       "      <th></th>\n",
       "      <th></th>\n",
       "    </tr>\n",
       "  </thead>\n",
       "  <tbody>\n",
       "    <tr>\n",
       "      <th>South</th>\n",
       "      <td>196639</td>\n",
       "      <td>9903178</td>\n",
       "      <td>10099817</td>\n",
       "      <td>1.946956</td>\n",
       "      <td>98.053044</td>\n",
       "    </tr>\n",
       "    <tr>\n",
       "      <th>West</th>\n",
       "      <td>150147</td>\n",
       "      <td>7614941</td>\n",
       "      <td>7765088</td>\n",
       "      <td>1.933616</td>\n",
       "      <td>98.066384</td>\n",
       "    </tr>\n",
       "    <tr>\n",
       "      <th>Midwest</th>\n",
       "      <td>146450</td>\n",
       "      <td>6961136</td>\n",
       "      <td>7107586</td>\n",
       "      <td>2.060475</td>\n",
       "      <td>97.939525</td>\n",
       "    </tr>\n",
       "    <tr>\n",
       "      <th>Northeast</th>\n",
       "      <td>101545</td>\n",
       "      <td>5254727</td>\n",
       "      <td>5356272</td>\n",
       "      <td>1.895815</td>\n",
       "      <td>98.104185</td>\n",
       "    </tr>\n",
       "  </tbody>\n",
       "</table>\n",
       "</div>"
      ],
      "text/plain": [
       "Spending_flag  High spender  Low spender     Total  Proportion high  \\\n",
       "Region                                                                \n",
       "South                196639      9903178  10099817         1.946956   \n",
       "West                 150147      7614941   7765088         1.933616   \n",
       "Midwest              146450      6961136   7107586         2.060475   \n",
       "Northeast            101545      5254727   5356272         1.895815   \n",
       "\n",
       "Spending_flag  Proportion low  \n",
       "Region                         \n",
       "South               98.053044  \n",
       "West                98.066384  \n",
       "Midwest             97.939525  \n",
       "Northeast           98.104185  "
      ]
     },
     "execution_count": 34,
     "metadata": {},
     "output_type": "execute_result"
    }
   ],
   "source": [
    "#View updated crosstab\n",
    "cross_reg_spend "
   ]
  },
  {
   "cell_type": "code",
   "execution_count": 35,
   "id": "19a66914",
   "metadata": {},
   "outputs": [
    {
     "data": {
      "text/plain": [
       "Text(0, 0.5, 'Total Spending')"
      ]
     },
     "execution_count": 35,
     "metadata": {},
     "output_type": "execute_result"
    },
    {
     "data": {
      "image/png": "[encoded data removed]",
      "text/plain": [
       "<Figure size 640x480 with 1 Axes>"
      ]
     },
     "metadata": {},
     "output_type": "display_data"
    }
   ],
   "source": [
    "#Create stacked bar chart\n",
    "cross_reg_spend_bar  = cross_reg_spend[['Proportion high', 'Proportion low']].plot.bar(stacked=True, color=[\"teal\", \"orange\"])\n",
    "plt.title('Spending by Region')\n",
    "plt.xlabel\n",
    "plt.ylabel('Total Spending')"
   ]
  },
  {
   "cell_type": "code",
   "execution_count": 36,
   "id": "68035844",
   "metadata": {},
   "outputs": [
    {
     "data": {
      "text/plain": [
       "Text(0, 0.5, 'Total Spending')"
      ]
     },
     "execution_count": 36,
     "metadata": {},
     "output_type": "execute_result"
    },
    {
     "data": {
      "image/png": "[encoded data removed]",
      "text/plain": [
       "<Figure size 640x480 with 1 Axes>"
      ]
     },
     "metadata": {},
     "output_type": "display_data"
    }
   ],
   "source": [
    "#Save stacked bar chart to Jupyter’s memory \n",
    "cross_reg_spend_bar = cross_reg_spend[['Proportion high', 'Proportion low']].plot.bar(stacked=True, color=[\"teal\", \"orange\"])\n",
    "plt.title('Spending by Region')\n",
    "plt.xlabel\n",
    "plt.ylabel('Total Spending')"
   ]
  },
  {
   "cell_type": "code",
   "execution_count": 37,
   "id": "8f909821",
   "metadata": {},
   "outputs": [],
   "source": [
    "cross_reg_spend_bar.figure.tight_layout()"
   ]
  },
  {
   "cell_type": "code",
   "execution_count": null,
   "id": "5a48f65f",
   "metadata": {},
   "outputs": [],
   "source": [
    "#Export cross_reg_spend_bar chart in the form of an image .png file\n",
    "cross_reg_spend_bar.figure.savefig(os.path.join(path, '04 Analysis','Visualizations', 'Cross_regional_spending_bar.png')) "
   ]
  },
  {
   "cell_type": "code",
   "execution_count": null,
   "id": "1ee45927",
   "metadata": {},
   "outputs": [],
   "source": [
    "#Create crosstab of Region and Frequency flag columns to examine differences in ordering habits\n",
    "cross_reg_freq = pd.crosstab(ords_prods_merge['Region'], ords_prods_merge['Frequency flag'], dropna = False)"
   ]
  },
  {
   "cell_type": "code",
   "execution_count": null,
   "id": "953fabbd",
   "metadata": {},
   "outputs": [],
   "source": [
    "#Check output\n",
    "cross_reg_freq"
   ]
  },
  {
   "cell_type": "code",
   "execution_count": null,
   "id": "2f37e2ee",
   "metadata": {},
   "outputs": [],
   "source": [
    "#Export of ords_prods_merge\n",
    "ords_prods_merge.to_pickle(os.path.join(path, '02 Data','Prepared Data', 'insta_all.pkl'))"
   ]
  },
  {
   "cell_type": "code",
   "execution_count": null,
   "id": "067b39cf",
   "metadata": {},
   "outputs": [],
   "source": []
  }
 ],
 "metadata": {
  "kernelspec": {
   "display_name": "Python 3 (ipykernel)",
   "language": "python",
   "name": "python3"
  },
  "language_info": {
   "codemirror_mode": {
    "name": "ipython",
    "version": 3
   },
   "file_extension": ".py",
   "mimetype": "text/x-python",
   "name": "python",
   "nbconvert_exporter": "python",
   "pygments_lexer": "ipython3",
   "version": "3.11.5"
  }
 },
 "nbformat": 4,
 "nbformat_minor": 5
}
