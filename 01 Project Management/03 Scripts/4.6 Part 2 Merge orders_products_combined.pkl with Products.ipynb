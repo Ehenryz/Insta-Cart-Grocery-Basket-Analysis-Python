{
 "cells": [
  {
   "cell_type": "code",
   "execution_count": null,
   "id": "e12aaf9f",
   "metadata": {},
   "outputs": [],
   "source": [
    "#CONTENTS LIST:\n",
    "#1. Merging orders_products_combined.pkl with products_consistency_checked.csv\n",
    "#2. Export of orders_products_merged.pkl"
   ]
  },
  {
   "cell_type": "code",
   "execution_count": null,
   "id": "b180a7b0",
   "metadata": {},
   "outputs": [],
   "source": [
    "#Importing Libraries\n",
    "import pandas as pd\n",
    "import numpy as np\n",
    "import os"
   ]
  },
  {
   "cell_type": "code",
   "execution_count": null,
   "id": "9135c163",
   "metadata": {},
   "outputs": [],
   "source": [
    "#Creating string for project folder path\n",
    "path=r\"C:\\Users\\HP\\02-2024 Instacart Basket Analysis\""
   ]
  },
  {
   "cell_type": "code",
   "execution_count": null,
   "id": "9d190f69",
   "metadata": {},
   "outputs": [],
   "source": [
    "\"\"\"\n",
    "File: orders_products_combined.pkl\n",
    "Author:Erica Henry\n",
    "Date: 2/19/24\n",
    "\n",
    "#Description: Importing of orders_products_combined.pkl'\n",
    "\"\"\"\n",
    "\n",
    "df_ords_combined=pd.read_pickle(os.path.join(path,\"02 Data\",\"Prepared Data\",\"orders_products_combined.pkl\"))"
   ]
  },
  {
   "cell_type": "code",
   "execution_count": null,
   "id": "a4eeffad",
   "metadata": {},
   "outputs": [],
   "source": [
    "\"\"\"\n",
    "File: products_consistency_checked.csv\n",
    "Author:Erica Henry\n",
    "Date: 2/19/24\n",
    "\n",
    "#Description: Importing data for products_consistency_checked.csv\n",
    "\"\"\"\n",
    "\n",
    "df_prods=pd.read_csv(os.path.join(path,\"02 Data\",\"Prepared Data\",\"products_consistency_checked.csv\"),index_col= False)"
   ]
  },
  {
   "cell_type": "code",
   "execution_count": null,
   "id": "31febcf1",
   "metadata": {},
   "outputs": [],
   "source": [
    "#Check the output of df_prods\n",
    "df_prods.shape"
   ]
  },
  {
   "cell_type": "code",
   "execution_count": null,
   "id": "10045024",
   "metadata": {},
   "outputs": [],
   "source": [
    "df_prods.head()"
   ]
  },
  {
   "cell_type": "code",
   "execution_count": null,
   "id": "9b157044",
   "metadata": {},
   "outputs": [],
   "source": [
    "df_prods.describe()"
   ]
  },
  {
   "cell_type": "code",
   "execution_count": null,
   "id": "b0c4b5f9",
   "metadata": {},
   "outputs": [],
   "source": [
    "#Check the output of df_ords_combined\n",
    "df_ords_combined.head()"
   ]
  },
  {
   "cell_type": "code",
   "execution_count": null,
   "id": "3c3d4c9b",
   "metadata": {},
   "outputs": [],
   "source": [
    "df_ords_combined.shape"
   ]
  },
  {
   "cell_type": "code",
   "execution_count": null,
   "id": "f957a239",
   "metadata": {},
   "outputs": [],
   "source": [
    "\"\"\"\n",
    "File: orders_products_combined.pkl and products_consistency_checked.csv\n",
    "Author:Erica Henry\n",
    "Date: 2/19/24\n",
    "\n",
    "#Description: Dropping unnamed columns in df_prods and df_ords_combined\n",
    "\"\"\"\n",
    "\n",
    "#Drop unnamed columns in df_prods\n",
    "df_prods.drop(columns = [\"Unnamed: 0\"]) "
   ]
  },
  {
   "cell_type": "code",
   "execution_count": null,
   "id": "7b926d5b",
   "metadata": {},
   "outputs": [],
   "source": [
    "#Drop unnamed columns in df_ords_combined\n",
    "df_ords_combined = df_ords_combined.drop(columns = [\"Unnamed: 0.1_x\", \"Unnamed: 0_x\", \"Unnamed: 0.1_y\", \"Unnamed: 0_y\", \"_merge\"])"
   ]
  },
  {
   "cell_type": "code",
   "execution_count": null,
   "id": "bc6f565c",
   "metadata": {},
   "outputs": [],
   "source": [
    "\"\"\"\n",
    "File: orders_products_combined.pkl and products_consistency_checked.csv\n",
    "Author:Erica Henry\n",
    "Date: 2/19/24\n",
    "\n",
    "#Description: Merge df_prods and df_ords_combined\n",
    "\"\"\"\n",
    "\n",
    "df_merged = df_ords_combined.merge(df_prods, on = 'product_id', indicator = True)"
   ]
  },
  {
   "cell_type": "code",
   "execution_count": null,
   "id": "361487f2",
   "metadata": {},
   "outputs": [],
   "source": [
    "#Check the output of df_merged\n",
    "df_merged.shape"
   ]
  },
  {
   "cell_type": "code",
   "execution_count": null,
   "id": "78fa7cce",
   "metadata": {},
   "outputs": [],
   "source": [
    "df_merged.head()"
   ]
  },
  {
   "cell_type": "code",
   "execution_count": null,
   "id": "dc088f36",
   "metadata": {},
   "outputs": [],
   "source": [
    "df_merged"
   ]
  },
  {
   "cell_type": "code",
   "execution_count": null,
   "id": "a2ded632",
   "metadata": {},
   "outputs": [],
   "source": [
    "df_merged[\"_merge\"].value_counts()"
   ]
  },
  {
   "cell_type": "code",
   "execution_count": null,
   "id": "93b99506",
   "metadata": {},
   "outputs": [],
   "source": [
    "#Export df_merged file\n",
    "df_merged.to_pickle(os.path.join(path, '02 Data','Prepared Data', 'orders_products_merged.pkl'))"
   ]
  },
  {
   "cell_type": "code",
   "execution_count": null,
   "id": "75c9e3a0",
   "metadata": {},
   "outputs": [],
   "source": []
  }
 ],
 "metadata": {
  "kernelspec": {
   "display_name": "Python 3 (ipykernel)",
   "language": "python",
   "name": "python3"
  },
  "language_info": {
   "codemirror_mode": {
    "name": "ipython",
    "version": 3
   },
   "file_extension": ".py",
   "mimetype": "text/x-python",
   "name": "python",
   "nbconvert_exporter": "python",
   "pygments_lexer": "ipython3",
   "version": "3.11.5"
  }
 },
 "nbformat": 4,
 "nbformat_minor": 5
}
