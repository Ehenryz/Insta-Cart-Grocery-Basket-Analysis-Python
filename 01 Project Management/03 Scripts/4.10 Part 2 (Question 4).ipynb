{
 "cells": [
  {
   "cell_type": "code",
   "execution_count": 1,
   "id": "b5feec26",
   "metadata": {},
   "outputs": [],
   "source": [
    "#CONTENTS LIST:\n",
    "#1. Create new dataframe called df_reg_freq to explore visualizations\n",
    "\n",
    "#2. Create bar chart of frequency flag column called freq_bar\n",
    "\n",
    "#3. Create bar chart of region column called reg_bar\n",
    "\n",
    "#4. Group frequency flag label counts by region from frequency flag column\n",
    "\n",
    "#5. Create 3 bar charts for Regular_customer_counts, Non_frequent_customer_counts, and Frequent_customer_counts to visualize counts\n",
    "\n",
    "#6. Question 4 completion (Create exclusion flag for low activity customers and exclude them from the data. Export the sample\n",
    "#   of low activity customers.)"
   ]
  },
  {
   "cell_type": "code",
   "execution_count": 2,
   "id": "d8eafb9b",
   "metadata": {},
   "outputs": [],
   "source": [
    "#Importing Libraries\n",
    "import pandas as pd\n",
    "import numpy as np\n",
    "import os\n",
    "import matplotlib.pyplot as plt\n",
    "import seaborn as sns\n",
    "import scipy"
   ]
  },
  {
   "cell_type": "code",
   "execution_count": 3,
   "id": "2397e14e",
   "metadata": {},
   "outputs": [],
   "source": [
    "#Creating string for project folder path\n",
    "path=r\"C:\\Users\\HP\\02-2024 Instacart Basket Analysis\""
   ]
  },
  {
   "cell_type": "code",
   "execution_count": 4,
   "id": "0b1a0d1f",
   "metadata": {},
   "outputs": [],
   "source": [
    "\"\"\"\n",
    "File: orders_products_aggregated_all.pkl\n",
    "Author:Erica Henry\n",
    "Date: 2/28/24\n",
    "\n",
    "#Description: Importing of orders_products_aggregated_all.pkl\n",
    "\"\"\"\n",
    "ords_prods_merge=pd.read_pickle(os.path.join(path,\"02 Data\",\"Prepared Data\",\"insta_all.pkl\"))"
   ]
  },
  {
   "cell_type": "code",
   "execution_count": 5,
   "id": "36cd3641",
   "metadata": {},
   "outputs": [
    {
     "name": "stdout",
     "output_type": "stream",
     "text": [
      "         Region         Frequency flag\n",
      "1         South      Frequent customer\n",
      "2         South      Frequent customer\n",
      "3         South      Frequent customer\n",
      "4         South      Frequent customer\n",
      "5         South      Frequent customer\n",
      "...         ...                    ...\n",
      "32404853   West  Non-frequent customer\n",
      "32404854   West  Non-frequent customer\n",
      "32404856  South      Frequent customer\n",
      "32404857  South      Frequent customer\n",
      "32404858  South      Frequent customer\n",
      "\n",
      "[30328763 rows x 2 columns]\n"
     ]
    }
   ],
   "source": [
    "#Create new df to explore visualizations\n",
    "df_reg_freq = ords_prods_merge.filter(['Region','Frequency flag'], axis=1)\n",
    "print(df_reg_freq)"
   ]
  },
  {
   "cell_type": "code",
   "execution_count": 6,
   "id": "e022e432",
   "metadata": {},
   "outputs": [
    {
     "data": {
      "text/html": [
       "<div>\n",
       "<style scoped>\n",
       "    .dataframe tbody tr th:only-of-type {\n",
       "        vertical-align: middle;\n",
       "    }\n",
       "\n",
       "    .dataframe tbody tr th {\n",
       "        vertical-align: top;\n",
       "    }\n",
       "\n",
       "    .dataframe thead th {\n",
       "        text-align: right;\n",
       "    }\n",
       "</style>\n",
       "<table border=\"1\" class=\"dataframe\">\n",
       "  <thead>\n",
       "    <tr style=\"text-align: right;\">\n",
       "      <th></th>\n",
       "      <th>Region</th>\n",
       "      <th>Frequency flag</th>\n",
       "    </tr>\n",
       "  </thead>\n",
       "  <tbody>\n",
       "    <tr>\n",
       "      <th>1</th>\n",
       "      <td>South</td>\n",
       "      <td>Frequent customer</td>\n",
       "    </tr>\n",
       "    <tr>\n",
       "      <th>2</th>\n",
       "      <td>South</td>\n",
       "      <td>Frequent customer</td>\n",
       "    </tr>\n",
       "    <tr>\n",
       "      <th>3</th>\n",
       "      <td>South</td>\n",
       "      <td>Frequent customer</td>\n",
       "    </tr>\n",
       "    <tr>\n",
       "      <th>4</th>\n",
       "      <td>South</td>\n",
       "      <td>Frequent customer</td>\n",
       "    </tr>\n",
       "    <tr>\n",
       "      <th>5</th>\n",
       "      <td>South</td>\n",
       "      <td>Frequent customer</td>\n",
       "    </tr>\n",
       "  </tbody>\n",
       "</table>\n",
       "</div>"
      ],
      "text/plain": [
       "  Region     Frequency flag\n",
       "1  South  Frequent customer\n",
       "2  South  Frequent customer\n",
       "3  South  Frequent customer\n",
       "4  South  Frequent customer\n",
       "5  South  Frequent customer"
      ]
     },
     "execution_count": 6,
     "metadata": {},
     "output_type": "execute_result"
    }
   ],
   "source": [
    "df_reg_freq.head()"
   ]
  },
  {
   "cell_type": "code",
   "execution_count": 7,
   "id": "15921272",
   "metadata": {},
   "outputs": [
    {
     "data": {
      "text/plain": [
       "<Axes: xlabel='Frequency flag'>"
      ]
     },
     "execution_count": 7,
     "metadata": {},
     "output_type": "execute_result"
    },
    {
     "data": {
      "image/png": "[encoded data removed]",
      "text/plain": [
       "<Figure size 640x480 with 1 Axes>"
      ]
     },
     "metadata": {},
     "output_type": "display_data"
    }
   ],
   "source": [
    "#Plot bar chart of df_reg_freq\n",
    "df_reg_freq.value_counts('Frequency flag').plot.bar()"
   ]
  },
  {
   "cell_type": "code",
   "execution_count": 8,
   "id": "3dbc6d17",
   "metadata": {},
   "outputs": [
    {
     "data": {
      "image/png": "[encoded data removed]",
      "text/plain": [
       "<Figure size 640x480 with 1 Axes>"
      ]
     },
     "metadata": {},
     "output_type": "display_data"
    }
   ],
   "source": [
    "df_reg_freq.value_counts('Frequency flag').plot.bar(color = [\"orange\", \"salmon\", \"blue\"])\n",
    "plt.title('Customer Frequency Counts')\n",
    "plt.xlabel ('Frequency Status')\n",
    "plt.show()"
   ]
  },
  {
   "cell_type": "code",
   "execution_count": 9,
   "id": "d78a02b7",
   "metadata": {},
   "outputs": [
    {
     "data": {
      "image/png": "[encoded data removed]",
      "text/plain": [
       "<Figure size 640x480 with 1 Axes>"
      ]
     },
     "metadata": {},
     "output_type": "display_data"
    }
   ],
   "source": [
    "#Save reg_freq_bar chart to Jupyter’s memory\n",
    "freq_bar = df_reg_freq.value_counts('Frequency flag').plot.bar(color = [\"orange\", \"salmon\", \"blue\"])\n",
    "plt.title('Customer Frequency Counts')\n",
    "plt.xlabel ('Frequency Status')\n",
    "plt.show()"
   ]
  },
  {
   "cell_type": "code",
   "execution_count": 10,
   "id": "d09ea44a",
   "metadata": {},
   "outputs": [],
   "source": [
    "freq_bar.figure.tight_layout()"
   ]
  },
  {
   "cell_type": "code",
   "execution_count": 11,
   "id": "f4a36d1b",
   "metadata": {},
   "outputs": [],
   "source": [
    "#Export reg_freq_bar chart in the form of an image .png file\n",
    "freq_bar.figure.savefig(os.path.join(path, '04 Analysis','Visualizations', 'frequency_bar.png')) "
   ]
  },
  {
   "cell_type": "code",
   "execution_count": 12,
   "id": "89607684",
   "metadata": {},
   "outputs": [
    {
     "data": {
      "text/plain": [
       "<Axes: xlabel='Region'>"
      ]
     },
     "execution_count": 12,
     "metadata": {},
     "output_type": "execute_result"
    },
    {
     "data": {
      "image/png": "[encoded data removed]",
      "text/plain": [
       "<Figure size 640x480 with 1 Axes>"
      ]
     },
     "metadata": {},
     "output_type": "display_data"
    }
   ],
   "source": [
    "#Plot bar chart of df_reg_freq\n",
    "df_reg_freq.value_counts('Region').plot.bar()"
   ]
  },
  {
   "cell_type": "code",
   "execution_count": 13,
   "id": "844503b5",
   "metadata": {},
   "outputs": [
    {
     "data": {
      "image/png": "[encoded data removed]",
      "text/plain": [
       "<Figure size 640x480 with 1 Axes>"
      ]
     },
     "metadata": {},
     "output_type": "display_data"
    }
   ],
   "source": [
    "df_reg_freq.value_counts('Region').plot.bar(color = [\"teal\", \"cadetblue\", \"lightblue\", \"silver\"])\n",
    "plt.title('Customers by Region')\n",
    "plt.show()"
   ]
  },
  {
   "cell_type": "code",
   "execution_count": 14,
   "id": "3ee8c8fa",
   "metadata": {},
   "outputs": [
    {
     "data": {
      "image/png": "[encoded data removed]",
      "text/plain": [
       "<Figure size 640x480 with 1 Axes>"
      ]
     },
     "metadata": {},
     "output_type": "display_data"
    }
   ],
   "source": [
    "#Save reg_freq_bar_2 chart to Jupyter’s memory\n",
    "reg_bar = df_reg_freq.value_counts('Region').plot.bar(color = [\"teal\", \"cadetblue\", \"lightblue\", \"silver\"])\n",
    "plt.title('Customers by Region')\n",
    "plt.show()"
   ]
  },
  {
   "cell_type": "code",
   "execution_count": 15,
   "id": "269cb588",
   "metadata": {},
   "outputs": [],
   "source": [
    "reg_bar.figure.tight_layout()"
   ]
  },
  {
   "cell_type": "code",
   "execution_count": 16,
   "id": "b4d5a1c4",
   "metadata": {},
   "outputs": [],
   "source": [
    "#Export reg_freq_bar chart in the form of an image .png file\n",
    "reg_bar.figure.savefig(os.path.join(path, '04 Analysis','Visualizations', 'regional_frequency.png')) "
   ]
  },
  {
   "cell_type": "code",
   "execution_count": 17,
   "id": "c6dc0e0f",
   "metadata": {},
   "outputs": [],
   "source": [
    "#Define frequent_customer to view 'Frequent customer' by region from frequency flag column\n",
    "Frequent_customer = df_reg_freq[df_reg_freq['Frequency flag'] == 'Frequent customer']"
   ]
  },
  {
   "cell_type": "code",
   "execution_count": 18,
   "id": "a45e8926",
   "metadata": {},
   "outputs": [
    {
     "data": {
      "text/html": [
       "<div>\n",
       "<style scoped>\n",
       "    .dataframe tbody tr th:only-of-type {\n",
       "        vertical-align: middle;\n",
       "    }\n",
       "\n",
       "    .dataframe tbody tr th {\n",
       "        vertical-align: top;\n",
       "    }\n",
       "\n",
       "    .dataframe thead th {\n",
       "        text-align: right;\n",
       "    }\n",
       "</style>\n",
       "<table border=\"1\" class=\"dataframe\">\n",
       "  <thead>\n",
       "    <tr style=\"text-align: right;\">\n",
       "      <th></th>\n",
       "      <th>Region</th>\n",
       "      <th>Frequency flag</th>\n",
       "    </tr>\n",
       "  </thead>\n",
       "  <tbody>\n",
       "    <tr>\n",
       "      <th>1</th>\n",
       "      <td>South</td>\n",
       "      <td>Frequent customer</td>\n",
       "    </tr>\n",
       "    <tr>\n",
       "      <th>2</th>\n",
       "      <td>South</td>\n",
       "      <td>Frequent customer</td>\n",
       "    </tr>\n",
       "    <tr>\n",
       "      <th>3</th>\n",
       "      <td>South</td>\n",
       "      <td>Frequent customer</td>\n",
       "    </tr>\n",
       "    <tr>\n",
       "      <th>4</th>\n",
       "      <td>South</td>\n",
       "      <td>Frequent customer</td>\n",
       "    </tr>\n",
       "    <tr>\n",
       "      <th>5</th>\n",
       "      <td>South</td>\n",
       "      <td>Frequent customer</td>\n",
       "    </tr>\n",
       "    <tr>\n",
       "      <th>...</th>\n",
       "      <td>...</td>\n",
       "      <td>...</td>\n",
       "    </tr>\n",
       "    <tr>\n",
       "      <th>32404827</th>\n",
       "      <td>West</td>\n",
       "      <td>Frequent customer</td>\n",
       "    </tr>\n",
       "    <tr>\n",
       "      <th>32404828</th>\n",
       "      <td>West</td>\n",
       "      <td>Frequent customer</td>\n",
       "    </tr>\n",
       "    <tr>\n",
       "      <th>32404856</th>\n",
       "      <td>South</td>\n",
       "      <td>Frequent customer</td>\n",
       "    </tr>\n",
       "    <tr>\n",
       "      <th>32404857</th>\n",
       "      <td>South</td>\n",
       "      <td>Frequent customer</td>\n",
       "    </tr>\n",
       "    <tr>\n",
       "      <th>32404858</th>\n",
       "      <td>South</td>\n",
       "      <td>Frequent customer</td>\n",
       "    </tr>\n",
       "  </tbody>\n",
       "</table>\n",
       "<p>5151691 rows × 2 columns</p>\n",
       "</div>"
      ],
      "text/plain": [
       "         Region     Frequency flag\n",
       "1         South  Frequent customer\n",
       "2         South  Frequent customer\n",
       "3         South  Frequent customer\n",
       "4         South  Frequent customer\n",
       "5         South  Frequent customer\n",
       "...         ...                ...\n",
       "32404827   West  Frequent customer\n",
       "32404828   West  Frequent customer\n",
       "32404856  South  Frequent customer\n",
       "32404857  South  Frequent customer\n",
       "32404858  South  Frequent customer\n",
       "\n",
       "[5151691 rows x 2 columns]"
      ]
     },
     "execution_count": 18,
     "metadata": {},
     "output_type": "execute_result"
    }
   ],
   "source": [
    "Frequent_customer "
   ]
  },
  {
   "cell_type": "code",
   "execution_count": 19,
   "id": "561161ef",
   "metadata": {},
   "outputs": [],
   "source": [
    "#Group frequent customer counts by region\n",
    "Frequent_customer_counts = Frequent_customer.groupby('Region').size()"
   ]
  },
  {
   "cell_type": "code",
   "execution_count": 20,
   "id": "fcdea1e8",
   "metadata": {},
   "outputs": [
    {
     "data": {
      "text/plain": [
       "Region\n",
       "Midwest      1215171\n",
       "Northeast     906438\n",
       "South        1711952\n",
       "West         1318130\n",
       "dtype: int64"
      ]
     },
     "execution_count": 20,
     "metadata": {},
     "output_type": "execute_result"
    }
   ],
   "source": [
    "Frequent_customer_counts"
   ]
  },
  {
   "cell_type": "code",
   "execution_count": 21,
   "id": "08c2e0b5",
   "metadata": {},
   "outputs": [],
   "source": [
    "#Sort by frequency\n",
    "Frequent_customer_counts = Frequent_customer_counts.sort_values(ascending=False)"
   ]
  },
  {
   "cell_type": "code",
   "execution_count": 22,
   "id": "faba7adf",
   "metadata": {},
   "outputs": [
    {
     "data": {
      "text/plain": [
       "Region\n",
       "South        1711952\n",
       "West         1318130\n",
       "Midwest      1215171\n",
       "Northeast     906438\n",
       "dtype: int64"
      ]
     },
     "execution_count": 22,
     "metadata": {},
     "output_type": "execute_result"
    }
   ],
   "source": [
    "Frequent_customer_counts"
   ]
  },
  {
   "cell_type": "code",
   "execution_count": 23,
   "id": "ba73f056",
   "metadata": {},
   "outputs": [],
   "source": [
    "#Define non- frequent customer to view 'Non-frequent customer' by region from frequency flag column\n",
    "Non_frequent_customer =df_reg_freq[df_reg_freq['Frequency flag'] == 'Non-frequent customer']\n",
    "Non_frequent_customer_counts = Non_frequent_customer.groupby('Region').size()"
   ]
  },
  {
   "cell_type": "code",
   "execution_count": 24,
   "id": "eb77f4c2",
   "metadata": {},
   "outputs": [
    {
     "data": {
      "text/plain": [
       "Region\n",
       "Midwest      5642231\n",
       "Northeast    4272743\n",
       "South        8042018\n",
       "West         6180191\n",
       "dtype: int64"
      ]
     },
     "execution_count": 24,
     "metadata": {},
     "output_type": "execute_result"
    }
   ],
   "source": [
    "Non_frequent_customer_counts"
   ]
  },
  {
   "cell_type": "code",
   "execution_count": 25,
   "id": "b08365a7",
   "metadata": {},
   "outputs": [],
   "source": [
    "#Sort by frequency\n",
    "Non_frequent_customer_counts = Non_frequent_customer_counts.sort_values(ascending=False)"
   ]
  },
  {
   "cell_type": "code",
   "execution_count": 26,
   "id": "75df34e4",
   "metadata": {},
   "outputs": [
    {
     "data": {
      "text/plain": [
       "Region\n",
       "South        8042018\n",
       "West         6180191\n",
       "Midwest      5642231\n",
       "Northeast    4272743\n",
       "dtype: int64"
      ]
     },
     "execution_count": 26,
     "metadata": {},
     "output_type": "execute_result"
    }
   ],
   "source": [
    "Non_frequent_customer_counts"
   ]
  },
  {
   "cell_type": "code",
   "execution_count": 27,
   "id": "5989fa2b",
   "metadata": {},
   "outputs": [],
   "source": [
    "#Define frequency by region for 'Regular customer'\n",
    "Regular_customer = df_reg_freq[df_reg_freq['Frequency flag'] == 'Regular customer']"
   ]
  },
  {
   "cell_type": "code",
   "execution_count": 28,
   "id": "92cbb404",
   "metadata": {},
   "outputs": [],
   "source": [
    "Regular_customer_counts = Regular_customer.groupby('Region').size()"
   ]
  },
  {
   "cell_type": "code",
   "execution_count": 29,
   "id": "1d79da37",
   "metadata": {},
   "outputs": [
    {
     "data": {
      "text/plain": [
       "Region\n",
       "Midwest      250184\n",
       "Northeast    177091\n",
       "South        345847\n",
       "West         266767\n",
       "dtype: int64"
      ]
     },
     "execution_count": 29,
     "metadata": {},
     "output_type": "execute_result"
    }
   ],
   "source": [
    "Regular_customer_counts"
   ]
  },
  {
   "cell_type": "code",
   "execution_count": 30,
   "id": "a251c465",
   "metadata": {},
   "outputs": [],
   "source": [
    "#Sort by frequency\n",
    "Regular_customer_counts = Regular_customer_counts.sort_values(ascending=False)"
   ]
  },
  {
   "cell_type": "code",
   "execution_count": 31,
   "id": "8507b6d5",
   "metadata": {},
   "outputs": [
    {
     "data": {
      "text/plain": [
       "Region\n",
       "South        345847\n",
       "West         266767\n",
       "Midwest      250184\n",
       "Northeast    177091\n",
       "dtype: int64"
      ]
     },
     "execution_count": 31,
     "metadata": {},
     "output_type": "execute_result"
    }
   ],
   "source": [
    "Regular_customer_counts "
   ]
  },
  {
   "cell_type": "code",
   "execution_count": 32,
   "id": "d244c464",
   "metadata": {},
   "outputs": [],
   "source": [
    "#Create 3 bars total for Regular_customer_counts, Non_frequent_customer_counts, and Frequent_customer_counts to visualize results"
   ]
  },
  {
   "cell_type": "code",
   "execution_count": 33,
   "id": "664a03c2",
   "metadata": {},
   "outputs": [
    {
     "data": {
      "image/png": "[encoded data removed]",
      "text/plain": [
       "<Figure size 640x480 with 1 Axes>"
      ]
     },
     "metadata": {},
     "output_type": "display_data"
    }
   ],
   "source": [
    "#Create Frequent_customer_counts bar chart to visualize crosstab results\n",
    "Frequent_customer_counts.value_counts().plot.bar (color = [\"blueviolet\",\"rebeccapurple\", \"slateblue\", \"darkgrey\"]) \n",
    "plt.title('Frequent Customers by Region')\n",
    "plt.xlabel('        South                West                   Midwest           Northeast')\n",
    "plt.ylabel('Frequency')\n",
    "plt.show()"
   ]
  },
  {
   "cell_type": "code",
   "execution_count": 34,
   "id": "1cbde861",
   "metadata": {},
   "outputs": [
    {
     "data": {
      "image/png": "[encoded data removed]",
      "text/plain": [
       "<Figure size 640x480 with 1 Axes>"
      ]
     },
     "metadata": {},
     "output_type": "display_data"
    }
   ],
   "source": [
    "#Save Frequent_customer_counts_bar chart to Jupyter’s memory\n",
    "Frequent_customer_regions_bar = Frequent_customer_counts.value_counts().plot.bar(color = [\"blueviolet\",\"rebeccapurple\", \"slateblue\", \"darkgrey\"])\n",
    "plt.title('Frequent Customers by Region')\n",
    "plt.xlabel('      South                  West                   Midwest                   Northeast')\n",
    "plt.ylabel('Frequency')\n",
    "plt.show()"
   ]
  },
  {
   "cell_type": "code",
   "execution_count": 35,
   "id": "ea0b2a56",
   "metadata": {},
   "outputs": [],
   "source": [
    "Frequent_customer_regions_bar.figure.tight_layout()"
   ]
  },
  {
   "cell_type": "code",
   "execution_count": 36,
   "id": "5cf73e51",
   "metadata": {},
   "outputs": [],
   "source": [
    "#Export Frequent_customer_regions_bar chart in the form of an image .png file\n",
    "Frequent_customer_regions_bar.figure.savefig(os.path.join(path, '04 Analysis','Visualizations', 'Frequent_customer_regions_bar.png')) "
   ]
  },
  {
   "cell_type": "code",
   "execution_count": 37,
   "id": "892b2472",
   "metadata": {},
   "outputs": [
    {
     "data": {
      "image/png": "[encoded data removed]",
      "text/plain": [
       "<Figure size 640x480 with 1 Axes>"
      ]
     },
     "metadata": {},
     "output_type": "display_data"
    }
   ],
   "source": [
    "#Create Regular_customer_counts bar chart to visualize crosstab results\n",
    "Regular_customer_counts.value_counts().plot.bar(color = [\"navy\",\"blue\", \"royalblue\",\"cornflowerblue\"])\n",
    "plt.title('Regular Frequency Customers by Region')\n",
    "plt.xlabel('   South                   West                Midwest                   Northeast')\n",
    "plt.ylabel('Frequency')\n",
    "plt.show()"
   ]
  },
  {
   "cell_type": "code",
   "execution_count": 38,
   "id": "af2d6dcb",
   "metadata": {},
   "outputs": [
    {
     "data": {
      "image/png": "[encoded data removed]",
      "text/plain": [
       "<Figure size 640x480 with 1 Axes>"
      ]
     },
     "metadata": {},
     "output_type": "display_data"
    }
   ],
   "source": [
    "#Save Regular_customer_counts_bar chart to Jupyter’s memory\n",
    "Regular_customer_regions_bar = Regular_customer_counts.value_counts().plot.bar(color = [\"navy\",\"blue\", \"royalblue\",\"cornflowerblue\"])\n",
    "plt.title('Regular Frequency Customers by Region')\n",
    "plt.xlabel('   South                   West                Midwest                   Northeast')\n",
    "plt.ylabel('Frequency')\n",
    "plt.show()"
   ]
  },
  {
   "cell_type": "code",
   "execution_count": 39,
   "id": "6602e713",
   "metadata": {},
   "outputs": [],
   "source": [
    "Regular_customer_regions_bar.figure.tight_layout()"
   ]
  },
  {
   "cell_type": "code",
   "execution_count": 40,
   "id": "1f9a6bda",
   "metadata": {},
   "outputs": [],
   "source": [
    "#Export Regular_customer_regions_bar chart in the form of an image .png file\n",
    "Regular_customer_regions_bar.figure.savefig(os.path.join(path, '04 Analysis','Visualizations', 'Regular_Frequency_customers_regions_bar.png')) "
   ]
  },
  {
   "cell_type": "code",
   "execution_count": 41,
   "id": "62cde3dc",
   "metadata": {},
   "outputs": [
    {
     "data": {
      "image/png": "[encoded data removed]",
      "text/plain": [
       "<Figure size 640x480 with 1 Axes>"
      ]
     },
     "metadata": {},
     "output_type": "display_data"
    }
   ],
   "source": [
    "#Create Non_frequent_customer_counts bar chart to visualize crosstab results\n",
    "Non_frequent_customer_counts.value_counts().plot.bar(color = [\"darkslategrey\", \"dimgray\", \"darkgrey\", \"lightgrey\"])\n",
    "plt.title('Non-frequent Customers by Region')\n",
    "plt.xlabel('    South                      West                    Midwest                   Northeast')\n",
    "plt.ylabel('Frequency')\n",
    "plt.show()"
   ]
  },
  {
   "cell_type": "code",
   "execution_count": 42,
   "id": "5a0136b5",
   "metadata": {},
   "outputs": [
    {
     "data": {
      "image/png": "[encoded data removed]",
      "text/plain": [
       "<Figure size 640x480 with 1 Axes>"
      ]
     },
     "metadata": {},
     "output_type": "display_data"
    }
   ],
   "source": [
    "#Save Regular_customer_counts_bar chart to Jupyter’s memory\n",
    "Non_frequent_customer_regions_bar = Non_frequent_customer_counts.value_counts().plot.bar(color = [\"darkslategrey\", \"dimgray\", \"darkgrey\", \"lightgrey\"])\n",
    "plt.title('Non-frequent Customers by Region')\n",
    "plt.xlabel('   South                   West                Midwest                   Northeast')\n",
    "plt.ylabel('Frequency')\n",
    "plt.show()"
   ]
  },
  {
   "cell_type": "code",
   "execution_count": 43,
   "id": "eec01a77",
   "metadata": {},
   "outputs": [],
   "source": [
    "Non_frequent_customer_regions_bar.figure.tight_layout()"
   ]
  },
  {
   "cell_type": "code",
   "execution_count": 44,
   "id": "8d964337",
   "metadata": {},
   "outputs": [],
   "source": [
    "#Export Non_frequent_customer_regions_bar chart in the form of an image .png file\n",
    "Non_frequent_customer_regions_bar.figure.savefig(os.path.join(path, '04 Analysis','Visualizations', 'Non_frequent_customer_regions_bar.png')) "
   ]
  },
  {
   "cell_type": "code",
   "execution_count": 49,
   "id": "fd237eed",
   "metadata": {},
   "outputs": [],
   "source": [
    "\"\"\"\n",
    "File: insta_all.pkl\n",
    "Author:Erica Henry\n",
    "Date: 3/3/24\n",
    "\n",
    "#Description: Question 4- The Instacart CFO isn’t interested in customers who don’t generate much revenue for the app. Create an exclusion flag for low-activity customers (customers with less than 5 orders) and exclude them from the data. Make sure you export this sample.\n",
    "\"\"\"\n",
    "\n",
    "#Create flag for low activity customers\n",
    "ords_prods_merge ['low_activity_flag'] = ords_prods_merge ['max_order'] < 5"
   ]
  },
  {
   "cell_type": "code",
   "execution_count": 50,
   "id": "c3f7fe10",
   "metadata": {},
   "outputs": [],
   "source": [
    "#Exclude low orders customers from data\n",
    "insta_no_low_ords = ords_prods_merge [~ords_prods_merge ['low_activity_flag']]"
   ]
  },
  {
   "cell_type": "code",
   "execution_count": 51,
   "id": "c2e6a4ab",
   "metadata": {},
   "outputs": [
    {
     "data": {
      "text/html": [
       "<div>\n",
       "<style scoped>\n",
       "    .dataframe tbody tr th:only-of-type {\n",
       "        vertical-align: middle;\n",
       "    }\n",
       "\n",
       "    .dataframe tbody tr th {\n",
       "        vertical-align: top;\n",
       "    }\n",
       "\n",
       "    .dataframe thead th {\n",
       "        text-align: right;\n",
       "    }\n",
       "</style>\n",
       "<table border=\"1\" class=\"dataframe\">\n",
       "  <thead>\n",
       "    <tr style=\"text-align: right;\">\n",
       "      <th></th>\n",
       "      <th>order_id</th>\n",
       "      <th>user_id</th>\n",
       "      <th>number_of_orders</th>\n",
       "      <th>orders_day_of_week</th>\n",
       "      <th>order_hour_of_day</th>\n",
       "      <th>days_since_prior_order</th>\n",
       "      <th>product_id</th>\n",
       "      <th>add_to_cart_order</th>\n",
       "      <th>number_of_times_reordered</th>\n",
       "      <th>product_name</th>\n",
       "      <th>...</th>\n",
       "      <th>Median Customer Frequency</th>\n",
       "      <th>Frequency flag</th>\n",
       "      <th>Gender</th>\n",
       "      <th>State</th>\n",
       "      <th>Age</th>\n",
       "      <th>number_of_dependents</th>\n",
       "      <th>fam_status</th>\n",
       "      <th>income</th>\n",
       "      <th>Region</th>\n",
       "      <th>low_activity_flag</th>\n",
       "    </tr>\n",
       "  </thead>\n",
       "  <tbody>\n",
       "    <tr>\n",
       "      <th>1</th>\n",
       "      <td>2398795</td>\n",
       "      <td>1</td>\n",
       "      <td>2</td>\n",
       "      <td>3</td>\n",
       "      <td>7</td>\n",
       "      <td>15.0</td>\n",
       "      <td>196</td>\n",
       "      <td>1</td>\n",
       "      <td>1</td>\n",
       "      <td>Soda</td>\n",
       "      <td>...</td>\n",
       "      <td>20.5</td>\n",
       "      <td>Frequent customer</td>\n",
       "      <td>Female</td>\n",
       "      <td>Alabama</td>\n",
       "      <td>31</td>\n",
       "      <td>3</td>\n",
       "      <td>married</td>\n",
       "      <td>40423</td>\n",
       "      <td>South</td>\n",
       "      <td>False</td>\n",
       "    </tr>\n",
       "    <tr>\n",
       "      <th>2</th>\n",
       "      <td>473747</td>\n",
       "      <td>1</td>\n",
       "      <td>3</td>\n",
       "      <td>3</td>\n",
       "      <td>12</td>\n",
       "      <td>21.0</td>\n",
       "      <td>196</td>\n",
       "      <td>1</td>\n",
       "      <td>1</td>\n",
       "      <td>Soda</td>\n",
       "      <td>...</td>\n",
       "      <td>20.5</td>\n",
       "      <td>Frequent customer</td>\n",
       "      <td>Female</td>\n",
       "      <td>Alabama</td>\n",
       "      <td>31</td>\n",
       "      <td>3</td>\n",
       "      <td>married</td>\n",
       "      <td>40423</td>\n",
       "      <td>South</td>\n",
       "      <td>False</td>\n",
       "    </tr>\n",
       "    <tr>\n",
       "      <th>3</th>\n",
       "      <td>2254736</td>\n",
       "      <td>1</td>\n",
       "      <td>4</td>\n",
       "      <td>4</td>\n",
       "      <td>7</td>\n",
       "      <td>29.0</td>\n",
       "      <td>196</td>\n",
       "      <td>1</td>\n",
       "      <td>1</td>\n",
       "      <td>Soda</td>\n",
       "      <td>...</td>\n",
       "      <td>20.5</td>\n",
       "      <td>Frequent customer</td>\n",
       "      <td>Female</td>\n",
       "      <td>Alabama</td>\n",
       "      <td>31</td>\n",
       "      <td>3</td>\n",
       "      <td>married</td>\n",
       "      <td>40423</td>\n",
       "      <td>South</td>\n",
       "      <td>False</td>\n",
       "    </tr>\n",
       "    <tr>\n",
       "      <th>4</th>\n",
       "      <td>431534</td>\n",
       "      <td>1</td>\n",
       "      <td>5</td>\n",
       "      <td>4</td>\n",
       "      <td>15</td>\n",
       "      <td>28.0</td>\n",
       "      <td>196</td>\n",
       "      <td>1</td>\n",
       "      <td>1</td>\n",
       "      <td>Soda</td>\n",
       "      <td>...</td>\n",
       "      <td>20.5</td>\n",
       "      <td>Frequent customer</td>\n",
       "      <td>Female</td>\n",
       "      <td>Alabama</td>\n",
       "      <td>31</td>\n",
       "      <td>3</td>\n",
       "      <td>married</td>\n",
       "      <td>40423</td>\n",
       "      <td>South</td>\n",
       "      <td>False</td>\n",
       "    </tr>\n",
       "    <tr>\n",
       "      <th>5</th>\n",
       "      <td>3367565</td>\n",
       "      <td>1</td>\n",
       "      <td>6</td>\n",
       "      <td>2</td>\n",
       "      <td>7</td>\n",
       "      <td>19.0</td>\n",
       "      <td>196</td>\n",
       "      <td>1</td>\n",
       "      <td>1</td>\n",
       "      <td>Soda</td>\n",
       "      <td>...</td>\n",
       "      <td>20.5</td>\n",
       "      <td>Frequent customer</td>\n",
       "      <td>Female</td>\n",
       "      <td>Alabama</td>\n",
       "      <td>31</td>\n",
       "      <td>3</td>\n",
       "      <td>married</td>\n",
       "      <td>40423</td>\n",
       "      <td>South</td>\n",
       "      <td>False</td>\n",
       "    </tr>\n",
       "  </tbody>\n",
       "</table>\n",
       "<p>5 rows × 31 columns</p>\n",
       "</div>"
      ],
      "text/plain": [
       "  order_id user_id  number_of_orders  orders_day_of_week  order_hour_of_day  \\\n",
       "1  2398795       1                 2                   3                  7   \n",
       "2   473747       1                 3                   3                 12   \n",
       "3  2254736       1                 4                   4                  7   \n",
       "4   431534       1                 5                   4                 15   \n",
       "5  3367565       1                 6                   2                  7   \n",
       "\n",
       "   days_since_prior_order  product_id  add_to_cart_order  \\\n",
       "1                    15.0         196                  1   \n",
       "2                    21.0         196                  1   \n",
       "3                    29.0         196                  1   \n",
       "4                    28.0         196                  1   \n",
       "5                    19.0         196                  1   \n",
       "\n",
       "   number_of_times_reordered product_name  ...  Median Customer Frequency  \\\n",
       "1                          1         Soda  ...                       20.5   \n",
       "2                          1         Soda  ...                       20.5   \n",
       "3                          1         Soda  ...                       20.5   \n",
       "4                          1         Soda  ...                       20.5   \n",
       "5                          1         Soda  ...                       20.5   \n",
       "\n",
       "      Frequency flag  Gender    State Age number_of_dependents fam_status  \\\n",
       "1  Frequent customer  Female  Alabama  31                    3    married   \n",
       "2  Frequent customer  Female  Alabama  31                    3    married   \n",
       "3  Frequent customer  Female  Alabama  31                    3    married   \n",
       "4  Frequent customer  Female  Alabama  31                    3    married   \n",
       "5  Frequent customer  Female  Alabama  31                    3    married   \n",
       "\n",
       "   income Region  low_activity_flag  \n",
       "1   40423  South              False  \n",
       "2   40423  South              False  \n",
       "3   40423  South              False  \n",
       "4   40423  South              False  \n",
       "5   40423  South              False  \n",
       "\n",
       "[5 rows x 31 columns]"
      ]
     },
     "execution_count": 51,
     "metadata": {},
     "output_type": "execute_result"
    }
   ],
   "source": [
    "insta_no_low_ords.head()"
   ]
  },
  {
   "cell_type": "code",
   "execution_count": 52,
   "id": "713b45e6",
   "metadata": {},
   "outputs": [
    {
     "data": {
      "text/plain": [
       "low_activity_flag\n",
       "False    29303281\n",
       "Name: count, dtype: int64"
      ]
     },
     "execution_count": 52,
     "metadata": {},
     "output_type": "execute_result"
    }
   ],
   "source": [
    "insta_no_low_ords['low_activity_flag'].value_counts(dropna=False)"
   ]
  },
  {
   "cell_type": "code",
   "execution_count": 54,
   "id": "03555d08",
   "metadata": {},
   "outputs": [],
   "source": [
    "#Create sample of low orders\n",
    "low_activity_sample = ords_prods_merge [ords_prods_merge ['low_activity_flag']]"
   ]
  },
  {
   "cell_type": "code",
   "execution_count": 55,
   "id": "0d8ee111",
   "metadata": {},
   "outputs": [
    {
     "data": {
      "text/html": [
       "<div>\n",
       "<style scoped>\n",
       "    .dataframe tbody tr th:only-of-type {\n",
       "        vertical-align: middle;\n",
       "    }\n",
       "\n",
       "    .dataframe tbody tr th {\n",
       "        vertical-align: top;\n",
       "    }\n",
       "\n",
       "    .dataframe thead th {\n",
       "        text-align: right;\n",
       "    }\n",
       "</style>\n",
       "<table border=\"1\" class=\"dataframe\">\n",
       "  <thead>\n",
       "    <tr style=\"text-align: right;\">\n",
       "      <th></th>\n",
       "      <th>order_id</th>\n",
       "      <th>user_id</th>\n",
       "      <th>number_of_orders</th>\n",
       "      <th>orders_day_of_week</th>\n",
       "      <th>order_hour_of_day</th>\n",
       "      <th>days_since_prior_order</th>\n",
       "      <th>product_id</th>\n",
       "      <th>add_to_cart_order</th>\n",
       "      <th>number_of_times_reordered</th>\n",
       "      <th>product_name</th>\n",
       "      <th>...</th>\n",
       "      <th>Median Customer Frequency</th>\n",
       "      <th>Frequency flag</th>\n",
       "      <th>Gender</th>\n",
       "      <th>State</th>\n",
       "      <th>Age</th>\n",
       "      <th>number_of_dependents</th>\n",
       "      <th>fam_status</th>\n",
       "      <th>income</th>\n",
       "      <th>Region</th>\n",
       "      <th>low_activity_flag</th>\n",
       "    </tr>\n",
       "  </thead>\n",
       "  <tbody>\n",
       "    <tr>\n",
       "      <th>1511</th>\n",
       "      <td>3273029</td>\n",
       "      <td>120</td>\n",
       "      <td>3</td>\n",
       "      <td>2</td>\n",
       "      <td>8</td>\n",
       "      <td>19.0</td>\n",
       "      <td>196</td>\n",
       "      <td>2</td>\n",
       "      <td>1</td>\n",
       "      <td>Soda</td>\n",
       "      <td>...</td>\n",
       "      <td>19.0</td>\n",
       "      <td>Frequent customer</td>\n",
       "      <td>Female</td>\n",
       "      <td>Kentucky</td>\n",
       "      <td>54</td>\n",
       "      <td>2</td>\n",
       "      <td>married</td>\n",
       "      <td>99219</td>\n",
       "      <td>South</td>\n",
       "      <td>True</td>\n",
       "    </tr>\n",
       "    <tr>\n",
       "      <th>1513</th>\n",
       "      <td>3273029</td>\n",
       "      <td>120</td>\n",
       "      <td>3</td>\n",
       "      <td>2</td>\n",
       "      <td>8</td>\n",
       "      <td>19.0</td>\n",
       "      <td>46149</td>\n",
       "      <td>1</td>\n",
       "      <td>1</td>\n",
       "      <td>Zero Calorie Cola</td>\n",
       "      <td>...</td>\n",
       "      <td>19.0</td>\n",
       "      <td>Frequent customer</td>\n",
       "      <td>Female</td>\n",
       "      <td>Kentucky</td>\n",
       "      <td>54</td>\n",
       "      <td>2</td>\n",
       "      <td>married</td>\n",
       "      <td>99219</td>\n",
       "      <td>South</td>\n",
       "      <td>True</td>\n",
       "    </tr>\n",
       "    <tr>\n",
       "      <th>1515</th>\n",
       "      <td>906054</td>\n",
       "      <td>120</td>\n",
       "      <td>2</td>\n",
       "      <td>4</td>\n",
       "      <td>7</td>\n",
       "      <td>15.0</td>\n",
       "      <td>31102</td>\n",
       "      <td>1</td>\n",
       "      <td>0</td>\n",
       "      <td>Sugar Free Energy Drink</td>\n",
       "      <td>...</td>\n",
       "      <td>19.0</td>\n",
       "      <td>Frequent customer</td>\n",
       "      <td>Female</td>\n",
       "      <td>Kentucky</td>\n",
       "      <td>54</td>\n",
       "      <td>2</td>\n",
       "      <td>married</td>\n",
       "      <td>99219</td>\n",
       "      <td>South</td>\n",
       "      <td>True</td>\n",
       "    </tr>\n",
       "    <tr>\n",
       "      <th>1516</th>\n",
       "      <td>3273029</td>\n",
       "      <td>120</td>\n",
       "      <td>3</td>\n",
       "      <td>2</td>\n",
       "      <td>8</td>\n",
       "      <td>19.0</td>\n",
       "      <td>31102</td>\n",
       "      <td>3</td>\n",
       "      <td>1</td>\n",
       "      <td>Sugar Free Energy Drink</td>\n",
       "      <td>...</td>\n",
       "      <td>19.0</td>\n",
       "      <td>Frequent customer</td>\n",
       "      <td>Female</td>\n",
       "      <td>Kentucky</td>\n",
       "      <td>54</td>\n",
       "      <td>2</td>\n",
       "      <td>married</td>\n",
       "      <td>99219</td>\n",
       "      <td>South</td>\n",
       "      <td>True</td>\n",
       "    </tr>\n",
       "    <tr>\n",
       "      <th>3856</th>\n",
       "      <td>3046940</td>\n",
       "      <td>360</td>\n",
       "      <td>2</td>\n",
       "      <td>2</td>\n",
       "      <td>8</td>\n",
       "      <td>4.0</td>\n",
       "      <td>5322</td>\n",
       "      <td>3</td>\n",
       "      <td>0</td>\n",
       "      <td>Gluten Free Dark Chocolate Chunk Chewy with a ...</td>\n",
       "      <td>...</td>\n",
       "      <td>4.0</td>\n",
       "      <td>Frequent customer</td>\n",
       "      <td>Male</td>\n",
       "      <td>Arizona</td>\n",
       "      <td>46</td>\n",
       "      <td>1</td>\n",
       "      <td>married</td>\n",
       "      <td>104257</td>\n",
       "      <td>West</td>\n",
       "      <td>True</td>\n",
       "    </tr>\n",
       "    <tr>\n",
       "      <th>...</th>\n",
       "      <td>...</td>\n",
       "      <td>...</td>\n",
       "      <td>...</td>\n",
       "      <td>...</td>\n",
       "      <td>...</td>\n",
       "      <td>...</td>\n",
       "      <td>...</td>\n",
       "      <td>...</td>\n",
       "      <td>...</td>\n",
       "      <td>...</td>\n",
       "      <td>...</td>\n",
       "      <td>...</td>\n",
       "      <td>...</td>\n",
       "      <td>...</td>\n",
       "      <td>...</td>\n",
       "      <td>...</td>\n",
       "      <td>...</td>\n",
       "      <td>...</td>\n",
       "      <td>...</td>\n",
       "      <td>...</td>\n",
       "      <td>...</td>\n",
       "    </tr>\n",
       "    <tr>\n",
       "      <th>32404827</th>\n",
       "      <td>1972276</td>\n",
       "      <td>166751</td>\n",
       "      <td>2</td>\n",
       "      <td>4</td>\n",
       "      <td>7</td>\n",
       "      <td>20.0</td>\n",
       "      <td>49001</td>\n",
       "      <td>1</td>\n",
       "      <td>1</td>\n",
       "      <td>Melatonin 2.5 Mg Sublingual Orange Tablets</td>\n",
       "      <td>...</td>\n",
       "      <td>10.0</td>\n",
       "      <td>Frequent customer</td>\n",
       "      <td>Female</td>\n",
       "      <td>Oregon</td>\n",
       "      <td>38</td>\n",
       "      <td>1</td>\n",
       "      <td>married</td>\n",
       "      <td>41766</td>\n",
       "      <td>West</td>\n",
       "      <td>True</td>\n",
       "    </tr>\n",
       "    <tr>\n",
       "      <th>32404828</th>\n",
       "      <td>1947537</td>\n",
       "      <td>166751</td>\n",
       "      <td>3</td>\n",
       "      <td>4</td>\n",
       "      <td>7</td>\n",
       "      <td>0.0</td>\n",
       "      <td>49001</td>\n",
       "      <td>1</td>\n",
       "      <td>1</td>\n",
       "      <td>Melatonin 2.5 Mg Sublingual Orange Tablets</td>\n",
       "      <td>...</td>\n",
       "      <td>10.0</td>\n",
       "      <td>Frequent customer</td>\n",
       "      <td>Female</td>\n",
       "      <td>Oregon</td>\n",
       "      <td>38</td>\n",
       "      <td>1</td>\n",
       "      <td>married</td>\n",
       "      <td>41766</td>\n",
       "      <td>West</td>\n",
       "      <td>True</td>\n",
       "    </tr>\n",
       "    <tr>\n",
       "      <th>32404856</th>\n",
       "      <td>1561557</td>\n",
       "      <td>66343</td>\n",
       "      <td>2</td>\n",
       "      <td>1</td>\n",
       "      <td>11</td>\n",
       "      <td>30.0</td>\n",
       "      <td>47210</td>\n",
       "      <td>1</td>\n",
       "      <td>1</td>\n",
       "      <td>Fresh Farmed Tilapia Fillet</td>\n",
       "      <td>...</td>\n",
       "      <td>30.0</td>\n",
       "      <td>Frequent customer</td>\n",
       "      <td>Female</td>\n",
       "      <td>Tennessee</td>\n",
       "      <td>22</td>\n",
       "      <td>3</td>\n",
       "      <td>married</td>\n",
       "      <td>46151</td>\n",
       "      <td>South</td>\n",
       "      <td>True</td>\n",
       "    </tr>\n",
       "    <tr>\n",
       "      <th>32404857</th>\n",
       "      <td>276317</td>\n",
       "      <td>66343</td>\n",
       "      <td>3</td>\n",
       "      <td>6</td>\n",
       "      <td>15</td>\n",
       "      <td>19.0</td>\n",
       "      <td>47210</td>\n",
       "      <td>1</td>\n",
       "      <td>1</td>\n",
       "      <td>Fresh Farmed Tilapia Fillet</td>\n",
       "      <td>...</td>\n",
       "      <td>30.0</td>\n",
       "      <td>Frequent customer</td>\n",
       "      <td>Female</td>\n",
       "      <td>Tennessee</td>\n",
       "      <td>22</td>\n",
       "      <td>3</td>\n",
       "      <td>married</td>\n",
       "      <td>46151</td>\n",
       "      <td>South</td>\n",
       "      <td>True</td>\n",
       "    </tr>\n",
       "    <tr>\n",
       "      <th>32404858</th>\n",
       "      <td>2922475</td>\n",
       "      <td>66343</td>\n",
       "      <td>4</td>\n",
       "      <td>1</td>\n",
       "      <td>12</td>\n",
       "      <td>30.0</td>\n",
       "      <td>47210</td>\n",
       "      <td>1</td>\n",
       "      <td>1</td>\n",
       "      <td>Fresh Farmed Tilapia Fillet</td>\n",
       "      <td>...</td>\n",
       "      <td>30.0</td>\n",
       "      <td>Frequent customer</td>\n",
       "      <td>Female</td>\n",
       "      <td>Tennessee</td>\n",
       "      <td>22</td>\n",
       "      <td>3</td>\n",
       "      <td>married</td>\n",
       "      <td>46151</td>\n",
       "      <td>South</td>\n",
       "      <td>True</td>\n",
       "    </tr>\n",
       "  </tbody>\n",
       "</table>\n",
       "<p>1025482 rows × 31 columns</p>\n",
       "</div>"
      ],
      "text/plain": [
       "         order_id user_id  number_of_orders  orders_day_of_week  \\\n",
       "1511      3273029     120                 3                   2   \n",
       "1513      3273029     120                 3                   2   \n",
       "1515       906054     120                 2                   4   \n",
       "1516      3273029     120                 3                   2   \n",
       "3856      3046940     360                 2                   2   \n",
       "...           ...     ...               ...                 ...   \n",
       "32404827  1972276  166751                 2                   4   \n",
       "32404828  1947537  166751                 3                   4   \n",
       "32404856  1561557   66343                 2                   1   \n",
       "32404857   276317   66343                 3                   6   \n",
       "32404858  2922475   66343                 4                   1   \n",
       "\n",
       "          order_hour_of_day  days_since_prior_order  product_id  \\\n",
       "1511                      8                    19.0         196   \n",
       "1513                      8                    19.0       46149   \n",
       "1515                      7                    15.0       31102   \n",
       "1516                      8                    19.0       31102   \n",
       "3856                      8                     4.0        5322   \n",
       "...                     ...                     ...         ...   \n",
       "32404827                  7                    20.0       49001   \n",
       "32404828                  7                     0.0       49001   \n",
       "32404856                 11                    30.0       47210   \n",
       "32404857                 15                    19.0       47210   \n",
       "32404858                 12                    30.0       47210   \n",
       "\n",
       "          add_to_cart_order  number_of_times_reordered  \\\n",
       "1511                      2                          1   \n",
       "1513                      1                          1   \n",
       "1515                      1                          0   \n",
       "1516                      3                          1   \n",
       "3856                      3                          0   \n",
       "...                     ...                        ...   \n",
       "32404827                  1                          1   \n",
       "32404828                  1                          1   \n",
       "32404856                  1                          1   \n",
       "32404857                  1                          1   \n",
       "32404858                  1                          1   \n",
       "\n",
       "                                               product_name  ...  \\\n",
       "1511                                                   Soda  ...   \n",
       "1513                                      Zero Calorie Cola  ...   \n",
       "1515                                Sugar Free Energy Drink  ...   \n",
       "1516                                Sugar Free Energy Drink  ...   \n",
       "3856      Gluten Free Dark Chocolate Chunk Chewy with a ...  ...   \n",
       "...                                                     ...  ...   \n",
       "32404827         Melatonin 2.5 Mg Sublingual Orange Tablets  ...   \n",
       "32404828         Melatonin 2.5 Mg Sublingual Orange Tablets  ...   \n",
       "32404856                        Fresh Farmed Tilapia Fillet  ...   \n",
       "32404857                        Fresh Farmed Tilapia Fillet  ...   \n",
       "32404858                        Fresh Farmed Tilapia Fillet  ...   \n",
       "\n",
       "          Median Customer Frequency     Frequency flag  Gender      State Age  \\\n",
       "1511                           19.0  Frequent customer  Female   Kentucky  54   \n",
       "1513                           19.0  Frequent customer  Female   Kentucky  54   \n",
       "1515                           19.0  Frequent customer  Female   Kentucky  54   \n",
       "1516                           19.0  Frequent customer  Female   Kentucky  54   \n",
       "3856                            4.0  Frequent customer    Male    Arizona  46   \n",
       "...                             ...                ...     ...        ...  ..   \n",
       "32404827                       10.0  Frequent customer  Female     Oregon  38   \n",
       "32404828                       10.0  Frequent customer  Female     Oregon  38   \n",
       "32404856                       30.0  Frequent customer  Female  Tennessee  22   \n",
       "32404857                       30.0  Frequent customer  Female  Tennessee  22   \n",
       "32404858                       30.0  Frequent customer  Female  Tennessee  22   \n",
       "\n",
       "         number_of_dependents fam_status  income Region  low_activity_flag  \n",
       "1511                        2    married   99219  South               True  \n",
       "1513                        2    married   99219  South               True  \n",
       "1515                        2    married   99219  South               True  \n",
       "1516                        2    married   99219  South               True  \n",
       "3856                        1    married  104257   West               True  \n",
       "...                       ...        ...     ...    ...                ...  \n",
       "32404827                    1    married   41766   West               True  \n",
       "32404828                    1    married   41766   West               True  \n",
       "32404856                    3    married   46151  South               True  \n",
       "32404857                    3    married   46151  South               True  \n",
       "32404858                    3    married   46151  South               True  \n",
       "\n",
       "[1025482 rows x 31 columns]"
      ]
     },
     "execution_count": 55,
     "metadata": {},
     "output_type": "execute_result"
    }
   ],
   "source": [
    "#Check output\n",
    "low_activity_sample "
   ]
  },
  {
   "cell_type": "code",
   "execution_count": 56,
   "id": "0e80e3cc",
   "metadata": {},
   "outputs": [
    {
     "data": {
      "text/html": [
       "<div>\n",
       "<style scoped>\n",
       "    .dataframe tbody tr th:only-of-type {\n",
       "        vertical-align: middle;\n",
       "    }\n",
       "\n",
       "    .dataframe tbody tr th {\n",
       "        vertical-align: top;\n",
       "    }\n",
       "\n",
       "    .dataframe thead th {\n",
       "        text-align: right;\n",
       "    }\n",
       "</style>\n",
       "<table border=\"1\" class=\"dataframe\">\n",
       "  <thead>\n",
       "    <tr style=\"text-align: right;\">\n",
       "      <th></th>\n",
       "      <th>order_id</th>\n",
       "      <th>user_id</th>\n",
       "      <th>number_of_orders</th>\n",
       "      <th>orders_day_of_week</th>\n",
       "      <th>order_hour_of_day</th>\n",
       "      <th>days_since_prior_order</th>\n",
       "      <th>product_id</th>\n",
       "      <th>add_to_cart_order</th>\n",
       "      <th>number_of_times_reordered</th>\n",
       "      <th>product_name</th>\n",
       "      <th>...</th>\n",
       "      <th>Median Customer Frequency</th>\n",
       "      <th>Frequency flag</th>\n",
       "      <th>Gender</th>\n",
       "      <th>State</th>\n",
       "      <th>Age</th>\n",
       "      <th>number_of_dependents</th>\n",
       "      <th>fam_status</th>\n",
       "      <th>income</th>\n",
       "      <th>Region</th>\n",
       "      <th>low_activity_flag</th>\n",
       "    </tr>\n",
       "  </thead>\n",
       "  <tbody>\n",
       "    <tr>\n",
       "      <th>1511</th>\n",
       "      <td>3273029</td>\n",
       "      <td>120</td>\n",
       "      <td>3</td>\n",
       "      <td>2</td>\n",
       "      <td>8</td>\n",
       "      <td>19.0</td>\n",
       "      <td>196</td>\n",
       "      <td>2</td>\n",
       "      <td>1</td>\n",
       "      <td>Soda</td>\n",
       "      <td>...</td>\n",
       "      <td>19.0</td>\n",
       "      <td>Frequent customer</td>\n",
       "      <td>Female</td>\n",
       "      <td>Kentucky</td>\n",
       "      <td>54</td>\n",
       "      <td>2</td>\n",
       "      <td>married</td>\n",
       "      <td>99219</td>\n",
       "      <td>South</td>\n",
       "      <td>True</td>\n",
       "    </tr>\n",
       "    <tr>\n",
       "      <th>1513</th>\n",
       "      <td>3273029</td>\n",
       "      <td>120</td>\n",
       "      <td>3</td>\n",
       "      <td>2</td>\n",
       "      <td>8</td>\n",
       "      <td>19.0</td>\n",
       "      <td>46149</td>\n",
       "      <td>1</td>\n",
       "      <td>1</td>\n",
       "      <td>Zero Calorie Cola</td>\n",
       "      <td>...</td>\n",
       "      <td>19.0</td>\n",
       "      <td>Frequent customer</td>\n",
       "      <td>Female</td>\n",
       "      <td>Kentucky</td>\n",
       "      <td>54</td>\n",
       "      <td>2</td>\n",
       "      <td>married</td>\n",
       "      <td>99219</td>\n",
       "      <td>South</td>\n",
       "      <td>True</td>\n",
       "    </tr>\n",
       "    <tr>\n",
       "      <th>1515</th>\n",
       "      <td>906054</td>\n",
       "      <td>120</td>\n",
       "      <td>2</td>\n",
       "      <td>4</td>\n",
       "      <td>7</td>\n",
       "      <td>15.0</td>\n",
       "      <td>31102</td>\n",
       "      <td>1</td>\n",
       "      <td>0</td>\n",
       "      <td>Sugar Free Energy Drink</td>\n",
       "      <td>...</td>\n",
       "      <td>19.0</td>\n",
       "      <td>Frequent customer</td>\n",
       "      <td>Female</td>\n",
       "      <td>Kentucky</td>\n",
       "      <td>54</td>\n",
       "      <td>2</td>\n",
       "      <td>married</td>\n",
       "      <td>99219</td>\n",
       "      <td>South</td>\n",
       "      <td>True</td>\n",
       "    </tr>\n",
       "    <tr>\n",
       "      <th>1516</th>\n",
       "      <td>3273029</td>\n",
       "      <td>120</td>\n",
       "      <td>3</td>\n",
       "      <td>2</td>\n",
       "      <td>8</td>\n",
       "      <td>19.0</td>\n",
       "      <td>31102</td>\n",
       "      <td>3</td>\n",
       "      <td>1</td>\n",
       "      <td>Sugar Free Energy Drink</td>\n",
       "      <td>...</td>\n",
       "      <td>19.0</td>\n",
       "      <td>Frequent customer</td>\n",
       "      <td>Female</td>\n",
       "      <td>Kentucky</td>\n",
       "      <td>54</td>\n",
       "      <td>2</td>\n",
       "      <td>married</td>\n",
       "      <td>99219</td>\n",
       "      <td>South</td>\n",
       "      <td>True</td>\n",
       "    </tr>\n",
       "    <tr>\n",
       "      <th>3856</th>\n",
       "      <td>3046940</td>\n",
       "      <td>360</td>\n",
       "      <td>2</td>\n",
       "      <td>2</td>\n",
       "      <td>8</td>\n",
       "      <td>4.0</td>\n",
       "      <td>5322</td>\n",
       "      <td>3</td>\n",
       "      <td>0</td>\n",
       "      <td>Gluten Free Dark Chocolate Chunk Chewy with a ...</td>\n",
       "      <td>...</td>\n",
       "      <td>4.0</td>\n",
       "      <td>Frequent customer</td>\n",
       "      <td>Male</td>\n",
       "      <td>Arizona</td>\n",
       "      <td>46</td>\n",
       "      <td>1</td>\n",
       "      <td>married</td>\n",
       "      <td>104257</td>\n",
       "      <td>West</td>\n",
       "      <td>True</td>\n",
       "    </tr>\n",
       "  </tbody>\n",
       "</table>\n",
       "<p>5 rows × 31 columns</p>\n",
       "</div>"
      ],
      "text/plain": [
       "     order_id user_id  number_of_orders  orders_day_of_week  \\\n",
       "1511  3273029     120                 3                   2   \n",
       "1513  3273029     120                 3                   2   \n",
       "1515   906054     120                 2                   4   \n",
       "1516  3273029     120                 3                   2   \n",
       "3856  3046940     360                 2                   2   \n",
       "\n",
       "      order_hour_of_day  days_since_prior_order  product_id  \\\n",
       "1511                  8                    19.0         196   \n",
       "1513                  8                    19.0       46149   \n",
       "1515                  7                    15.0       31102   \n",
       "1516                  8                    19.0       31102   \n",
       "3856                  8                     4.0        5322   \n",
       "\n",
       "      add_to_cart_order  number_of_times_reordered  \\\n",
       "1511                  2                          1   \n",
       "1513                  1                          1   \n",
       "1515                  1                          0   \n",
       "1516                  3                          1   \n",
       "3856                  3                          0   \n",
       "\n",
       "                                           product_name  ...  \\\n",
       "1511                                               Soda  ...   \n",
       "1513                                  Zero Calorie Cola  ...   \n",
       "1515                            Sugar Free Energy Drink  ...   \n",
       "1516                            Sugar Free Energy Drink  ...   \n",
       "3856  Gluten Free Dark Chocolate Chunk Chewy with a ...  ...   \n",
       "\n",
       "      Median Customer Frequency     Frequency flag  Gender     State Age  \\\n",
       "1511                       19.0  Frequent customer  Female  Kentucky  54   \n",
       "1513                       19.0  Frequent customer  Female  Kentucky  54   \n",
       "1515                       19.0  Frequent customer  Female  Kentucky  54   \n",
       "1516                       19.0  Frequent customer  Female  Kentucky  54   \n",
       "3856                        4.0  Frequent customer    Male   Arizona  46   \n",
       "\n",
       "     number_of_dependents fam_status  income Region  low_activity_flag  \n",
       "1511                    2    married   99219  South               True  \n",
       "1513                    2    married   99219  South               True  \n",
       "1515                    2    married   99219  South               True  \n",
       "1516                    2    married   99219  South               True  \n",
       "3856                    1    married  104257   West               True  \n",
       "\n",
       "[5 rows x 31 columns]"
      ]
     },
     "execution_count": 56,
     "metadata": {},
     "output_type": "execute_result"
    }
   ],
   "source": [
    "low_activity_sample.head()"
   ]
  },
  {
   "cell_type": "code",
   "execution_count": 57,
   "id": "96f2bd62",
   "metadata": {},
   "outputs": [
    {
     "data": {
      "text/plain": [
       "count    1.025482e+06\n",
       "mean     3.552134e+00\n",
       "std      4.972828e-01\n",
       "min      2.000000e+00\n",
       "25%      3.000000e+00\n",
       "50%      4.000000e+00\n",
       "75%      4.000000e+00\n",
       "max      4.000000e+00\n",
       "Name: max_order, dtype: float64"
      ]
     },
     "execution_count": 57,
     "metadata": {},
     "output_type": "execute_result"
    }
   ],
   "source": [
    "low_activity_sample ['max_order'].describe()"
   ]
  },
  {
   "cell_type": "code",
   "execution_count": 58,
   "id": "d31659e0",
   "metadata": {},
   "outputs": [],
   "source": [
    "#Export low_activity_sample\n",
    "low_activity_sample.to_pickle(os.path.join(path, '02 Data','Prepared Data', 'low_activity_sample.pkl'))"
   ]
  },
  {
   "cell_type": "code",
   "execution_count": 59,
   "id": "88fae200",
   "metadata": {},
   "outputs": [],
   "source": [
    "##Excluded 1,440,295 low orders under 5 total from insta_all df"
   ]
  },
  {
   "cell_type": "code",
   "execution_count": 60,
   "id": "98f38c2d",
   "metadata": {},
   "outputs": [],
   "source": [
    "#Export insta_no_low_ords\n",
    "insta_no_low_ords.to_pickle(os.path.join(path, '02 Data','Prepared Data', 'insta_no_low_ords.pkl'))"
   ]
  },
  {
   "cell_type": "code",
   "execution_count": null,
   "id": "0106d8b3",
   "metadata": {},
   "outputs": [],
   "source": []
  }
 ],
 "metadata": {
  "kernelspec": {
   "display_name": "Python 3 (ipykernel)",
   "language": "python",
   "name": "python3"
  },
  "language_info": {
   "codemirror_mode": {
    "name": "ipython",
    "version": 3
   },
   "file_extension": ".py",
   "mimetype": "text/x-python",
   "name": "python",
   "nbconvert_exporter": "python",
   "pygments_lexer": "ipython3",
   "version": "3.11.5"
  }
 },
 "nbformat": 4,
 "nbformat_minor": 5
}
