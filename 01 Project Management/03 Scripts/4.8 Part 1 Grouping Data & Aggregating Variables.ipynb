{
 "cells": [
  {
   "cell_type": "code",
   "execution_count": null,
   "id": "cd55004f",
   "metadata": {},
   "outputs": [],
   "source": [
    "#CONTENTS LIST:\n",
    "#1. Use 3 step procedure\n",
    "\n",
    "#2. Conducting aggregations without use of the agg() function, replaced by mean(), for 'department_id' and 'number_of_orders' columns\n",
    "\n",
    "#3. Performing multiple aggregations using agg(), grouping by 'department_id' and aggregating 'mean', 'min', 'max' for number_of_orders column. \n",
    "\n",
    "#4. #Aggregating Data with transform \n",
    "#   -Create a new column 'max_order' containing the maximum frequency of the “number_of_orders” column\n",
    "\n",
    "#5. Derive new columns with loc() to set loyalty customer flags\n",
    "\n",
    "#6. Export of orders_products_aggregated_subset.pkl"
   ]
  },
  {
   "cell_type": "code",
   "execution_count": null,
   "id": "277f36f2",
   "metadata": {},
   "outputs": [],
   "source": [
    "#Importing Libraries\n",
    "import pandas as pd\n",
    "import numpy as np\n",
    "import os"
   ]
  },
  {
   "cell_type": "code",
   "execution_count": null,
   "id": "5250906e",
   "metadata": {},
   "outputs": [],
   "source": [
    "#Creating string for project folder path\n",
    "path=r\"C:\\Users\\HP\\02-2024 Instacart Basket Analysis\""
   ]
  },
  {
   "cell_type": "code",
   "execution_count": null,
   "id": "ab1d56ac",
   "metadata": {},
   "outputs": [],
   "source": [
    "\"\"\"\n",
    "File: orders_products_merged_updated.pkl\n",
    "Author:Erica Henry\n",
    "Date: 2/21/24\n",
    "\n",
    "#Description: Importing of orders_products_merged_updated.pkl\n",
    "\"\"\"\n",
    "\n",
    "ords_prods_merge=pd.read_pickle(os.path.join(path,\"02 Data\",\"Prepared Data\",\"orders_products_merged_updated.pkl\"))"
   ]
  },
  {
   "cell_type": "code",
   "execution_count": null,
   "id": "69182f9b",
   "metadata": {},
   "outputs": [],
   "source": [
    "#Create subset of first million entries\n",
    "df = ords_prods_merge[:1000000]"
   ]
  },
  {
   "cell_type": "code",
   "execution_count": null,
   "id": "e6d05210",
   "metadata": {
    "scrolled": true
   },
   "outputs": [],
   "source": [
    "df.head()"
   ]
  },
  {
   "cell_type": "code",
   "execution_count": null,
   "id": "f54997ca",
   "metadata": {},
   "outputs": [],
   "source": [
    "df.shape"
   ]
  },
  {
   "cell_type": "code",
   "execution_count": null,
   "id": "c90665b3",
   "metadata": {},
   "outputs": [],
   "source": [
    "#Step 1 of 3 step procedure\n",
    "df.groupby('product_name')"
   ]
  },
  {
   "cell_type": "code",
   "execution_count": null,
   "id": "9fd6facf",
   "metadata": {
    "scrolled": true
   },
   "outputs": [],
   "source": [
    "#Step 1 and 2  of 3 step procedure\n",
    "df.groupby('department_id').agg({'number_of_orders': ['mean']})"
   ]
  },
  {
   "cell_type": "code",
   "execution_count": null,
   "id": "d11d08cb",
   "metadata": {},
   "outputs": [],
   "source": [
    "#Conducting aggregations without use of the agg() function, replaced by mean()\n",
    "df.groupby('department_id')['number_of_orders'].mean()"
   ]
  },
  {
   "cell_type": "code",
   "execution_count": null,
   "id": "c9308bf9",
   "metadata": {},
   "outputs": [],
   "source": [
    "#Performing multiple aggregations using agg()\n",
    "df.groupby('department_id').agg({'number_of_orders': ['mean', 'min', 'max']})"
   ]
  },
  {
   "cell_type": "code",
   "execution_count": null,
   "id": "9bce902b",
   "metadata": {},
   "outputs": [],
   "source": [
    "#Aggregating Data with transform()\n",
    "##Create a new column 'max_order' containing the maximum frequency of the “number_of_orders” column\n",
    "df['max_order'] = df.groupby(['user_id'])['number_of_orders'].transform(np.max)"
   ]
  },
  {
   "cell_type": "code",
   "execution_count": null,
   "id": "a1ed5693",
   "metadata": {},
   "outputs": [],
   "source": [
    "#Check results\n",
    "df"
   ]
  },
  {
   "cell_type": "code",
   "execution_count": null,
   "id": "9cd93c45",
   "metadata": {},
   "outputs": [],
   "source": [
    "df.head(100)"
   ]
  },
  {
   "cell_type": "code",
   "execution_count": null,
   "id": "0a23f23b",
   "metadata": {},
   "outputs": [],
   "source": [
    "#Tell pandas not to assign any options regarding the maximum number of rows to display\n",
    "pd.options.display.max_rows = None"
   ]
  },
  {
   "cell_type": "code",
   "execution_count": null,
   "id": "4bcf1872",
   "metadata": {},
   "outputs": [],
   "source": [
    "#Check output\n",
    "df.head(100)"
   ]
  },
  {
   "cell_type": "code",
   "execution_count": null,
   "id": "b109e129",
   "metadata": {},
   "outputs": [],
   "source": [
    "#Deriving Columns with loc()\n",
    "##Setting loyalty customer flags\n",
    "df.loc[df['max_order'] > 40, 'loyalty_flag'] = 'Loyal customer'\n",
    "df.loc[(df['max_order'] <= 40) & (df['max_order'] > 10), 'loyalty_flag'] = 'Regular customer'\n",
    "df.loc[df['max_order'] <= 10, 'loyalty_flag'] = 'New customer'"
   ]
  },
  {
   "cell_type": "code",
   "execution_count": null,
   "id": "5e177823",
   "metadata": {},
   "outputs": [],
   "source": [
    "#Print the frequency of new “loyalty_flag” column \n",
    "df[\"loyalty_flag\"].value_counts(dropna=False)"
   ]
  },
  {
   "cell_type": "code",
   "execution_count": null,
   "id": "d3b5fc3c",
   "metadata": {},
   "outputs": [],
   "source": [
    "#Confirm the numbers and accuracy of the flag labels\n",
    "##Use head() to access multiple columns\n",
    "df[['user_id', 'loyalty_flag', 'number_of_orders']].head(60)"
   ]
  },
  {
   "cell_type": "code",
   "execution_count": null,
   "id": "e9e874cf",
   "metadata": {},
   "outputs": [],
   "source": [
    "#Export of ords_prods_merge\n",
    "df.to_pickle(os.path.join(path, '02 Data','Prepared Data', 'orders_products_aggregated_subset.pkl'))"
   ]
  },
  {
   "cell_type": "code",
   "execution_count": null,
   "id": "7e3293ce",
   "metadata": {},
   "outputs": [],
   "source": []
  }
 ],
 "metadata": {
  "kernelspec": {
   "display_name": "Python 3 (ipykernel)",
   "language": "python",
   "name": "python3"
  },
  "language_info": {
   "codemirror_mode": {
    "name": "ipython",
    "version": 3
   },
   "file_extension": ".py",
   "mimetype": "text/x-python",
   "name": "python",
   "nbconvert_exporter": "python",
   "pygments_lexer": "ipython3",
   "version": "3.11.5"
  }
 },
 "nbformat": 4,
 "nbformat_minor": 5
}
